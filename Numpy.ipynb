{
 "cells": [
  {
   "cell_type": "markdown",
   "id": "72d8951b",
   "metadata": {},
   "source": [
    "# Numpy\n",
    "\n",
    ".numpy is general-purpose array processing package.\n",
    ".numpy was created to work with multidimentional arrays.\n",
    ".it is fundamental package for scientific computing with python.\n",
    ".it is open source library."
   ]
  },
  {
   "cell_type": "code",
   "execution_count": 1,
   "id": "6518fad5",
   "metadata": {
    "ExecuteTime": {
     "end_time": "2022-12-30T12:42:36.076500Z",
     "start_time": "2022-12-30T12:42:27.938723Z"
    }
   },
   "outputs": [
    {
     "name": "stdout",
     "output_type": "stream",
     "text": [
      "Requirement already satisfied: numpy in c:\\users\\shivdas\\anaconda3\\lib\\site-packages (1.21.5)\n"
     ]
    }
   ],
   "source": [
    "#importing necessary library\n",
    "!pip install numpy\n",
    "\n",
    "import numpy as np"
   ]
  },
  {
   "cell_type": "code",
   "execution_count": 2,
   "id": "f0e33875",
   "metadata": {
    "ExecuteTime": {
     "end_time": "2022-12-30T12:42:36.118118Z",
     "start_time": "2022-12-30T12:42:36.084396Z"
    }
   },
   "outputs": [
    {
     "data": {
      "text/plain": [
       "numpy.ndarray"
      ]
     },
     "execution_count": 2,
     "metadata": {},
     "output_type": "execute_result"
    }
   ],
   "source": [
    "#Array creation\n",
    "\n",
    "a=np.array(10)\n",
    "type(a)"
   ]
  },
  {
   "cell_type": "code",
   "execution_count": 3,
   "id": "b56c70ab",
   "metadata": {
    "ExecuteTime": {
     "end_time": "2022-12-30T12:42:36.133716Z",
     "start_time": "2022-12-30T12:42:36.122661Z"
    }
   },
   "outputs": [],
   "source": [
    "#Zero dimentional array"
   ]
  },
  {
   "cell_type": "code",
   "execution_count": 4,
   "id": "cb238d12",
   "metadata": {
    "ExecuteTime": {
     "end_time": "2022-12-30T12:42:36.164512Z",
     "start_time": "2022-12-30T12:42:36.142261Z"
    }
   },
   "outputs": [
    {
     "data": {
      "text/plain": [
       "0"
      ]
     },
     "execution_count": 4,
     "metadata": {},
     "output_type": "execute_result"
    }
   ],
   "source": [
    "z=np.array(10)\n",
    "\n",
    "z.ndim"
   ]
  },
  {
   "cell_type": "code",
   "execution_count": 5,
   "id": "ccdce68d",
   "metadata": {
    "ExecuteTime": {
     "end_time": "2022-12-30T12:42:36.187061Z",
     "start_time": "2022-12-30T12:42:36.170052Z"
    }
   },
   "outputs": [],
   "source": [
    "#one dimentional array"
   ]
  },
  {
   "cell_type": "code",
   "execution_count": 6,
   "id": "c968d903",
   "metadata": {
    "ExecuteTime": {
     "end_time": "2022-12-30T12:42:36.210346Z",
     "start_time": "2022-12-30T12:42:36.193976Z"
    }
   },
   "outputs": [
    {
     "data": {
      "text/plain": [
       "1"
      ]
     },
     "execution_count": 6,
     "metadata": {},
     "output_type": "execute_result"
    }
   ],
   "source": [
    "o=np.array([10,12,12,15])\n",
    "o.ndim"
   ]
  },
  {
   "cell_type": "code",
   "execution_count": 7,
   "id": "3d2592c2",
   "metadata": {
    "ExecuteTime": {
     "end_time": "2022-12-30T12:42:36.234672Z",
     "start_time": "2022-12-30T12:42:36.218752Z"
    }
   },
   "outputs": [],
   "source": [
    "#Two dimentional array"
   ]
  },
  {
   "cell_type": "code",
   "execution_count": 8,
   "id": "374f5300",
   "metadata": {
    "ExecuteTime": {
     "end_time": "2022-12-30T12:42:36.261397Z",
     "start_time": "2022-12-30T12:42:36.242236Z"
    }
   },
   "outputs": [
    {
     "data": {
      "text/plain": [
       "2"
      ]
     },
     "execution_count": 8,
     "metadata": {},
     "output_type": "execute_result"
    }
   ],
   "source": [
    "t=np.array([[10,10,12,14,15]])\n",
    "t.ndim"
   ]
  },
  {
   "cell_type": "code",
   "execution_count": 9,
   "id": "fc133952",
   "metadata": {
    "ExecuteTime": {
     "end_time": "2022-12-30T12:42:36.387664Z",
     "start_time": "2022-12-30T12:42:36.374538Z"
    }
   },
   "outputs": [],
   "source": [
    "#Three dimentional array"
   ]
  },
  {
   "cell_type": "code",
   "execution_count": 10,
   "id": "d2eee74c",
   "metadata": {
    "ExecuteTime": {
     "end_time": "2022-12-30T12:42:37.790955Z",
     "start_time": "2022-12-30T12:42:37.776327Z"
    }
   },
   "outputs": [
    {
     "data": {
      "text/plain": [
       "3"
      ]
     },
     "execution_count": 10,
     "metadata": {},
     "output_type": "execute_result"
    }
   ],
   "source": [
    "th=np.array([[[10,12,14,15,16]]])\n",
    "th.ndim"
   ]
  },
  {
   "cell_type": "code",
   "execution_count": 11,
   "id": "88224892",
   "metadata": {
    "ExecuteTime": {
     "end_time": "2022-12-30T12:42:38.743286Z",
     "start_time": "2022-12-30T12:42:38.730252Z"
    }
   },
   "outputs": [],
   "source": [
    "#Change the data type of array elements"
   ]
  },
  {
   "cell_type": "code",
   "execution_count": 12,
   "id": "8b88612f",
   "metadata": {
    "ExecuteTime": {
     "end_time": "2022-12-30T12:42:41.678645Z",
     "start_time": "2022-12-30T12:42:41.658509Z"
    }
   },
   "outputs": [
    {
     "data": {
      "text/plain": [
       "dtype('int32')"
      ]
     },
     "execution_count": 12,
     "metadata": {},
     "output_type": "execute_result"
    }
   ],
   "source": [
    "a=np.array([10,15,52,54])\n",
    "a.dtype"
   ]
  },
  {
   "cell_type": "code",
   "execution_count": 13,
   "id": "1e7f7dcb",
   "metadata": {
    "ExecuteTime": {
     "end_time": "2022-12-30T12:42:42.511963Z",
     "start_time": "2022-12-30T12:42:42.499894Z"
    }
   },
   "outputs": [
    {
     "data": {
      "text/plain": [
       "dtype('float64')"
      ]
     },
     "execution_count": 13,
     "metadata": {},
     "output_type": "execute_result"
    }
   ],
   "source": [
    "a=np.array([10,15,52,54],dtype='float')\n",
    "a.dtype"
   ]
  },
  {
   "cell_type": "markdown",
   "id": "8cb8938c",
   "metadata": {},
   "source": [
    "# Other ways of creating an array"
   ]
  },
  {
   "cell_type": "code",
   "execution_count": 14,
   "id": "190b10a0",
   "metadata": {
    "ExecuteTime": {
     "end_time": "2022-12-30T12:43:43.350624Z",
     "start_time": "2022-12-30T12:43:43.343641Z"
    }
   },
   "outputs": [],
   "source": [
    "#arrange"
   ]
  },
  {
   "cell_type": "code",
   "execution_count": 16,
   "id": "db701797",
   "metadata": {
    "ExecuteTime": {
     "end_time": "2022-12-30T12:44:43.910211Z",
     "start_time": "2022-12-30T12:44:43.886910Z"
    }
   },
   "outputs": [
    {
     "data": {
      "text/plain": [
       "array([ 1,  2,  3,  4,  5,  6,  7,  8,  9, 10, 11, 12, 13, 14, 15, 16, 17,\n",
       "       18, 19, 20])"
      ]
     },
     "execution_count": 16,
     "metadata": {},
     "output_type": "execute_result"
    }
   ],
   "source": [
    "a=np.arange(1,21)\n",
    "a"
   ]
  },
  {
   "cell_type": "code",
   "execution_count": 17,
   "id": "1ccc457f",
   "metadata": {
    "ExecuteTime": {
     "end_time": "2022-12-30T12:45:12.178065Z",
     "start_time": "2022-12-30T12:45:12.167705Z"
    }
   },
   "outputs": [],
   "source": [
    "#linspace"
   ]
  },
  {
   "cell_type": "code",
   "execution_count": 18,
   "id": "4cd52cb2",
   "metadata": {
    "ExecuteTime": {
     "end_time": "2022-12-30T12:45:56.247672Z",
     "start_time": "2022-12-30T12:45:56.220192Z"
    }
   },
   "outputs": [
    {
     "data": {
      "text/plain": [
       "array([1.        , 1.28571429, 1.57142857, 1.85714286, 2.14285714,\n",
       "       2.42857143, 2.71428571, 3.        , 3.28571429, 3.57142857,\n",
       "       3.85714286, 4.14285714, 4.42857143, 4.71428571, 5.        ])"
      ]
     },
     "execution_count": 18,
     "metadata": {},
     "output_type": "execute_result"
    }
   ],
   "source": [
    "b=np.linspace(1,5,15)\n",
    "b"
   ]
  },
  {
   "cell_type": "code",
   "execution_count": 19,
   "id": "f61eec46",
   "metadata": {
    "ExecuteTime": {
     "end_time": "2022-12-30T12:46:28.849115Z",
     "start_time": "2022-12-30T12:46:28.829869Z"
    }
   },
   "outputs": [],
   "source": [
    "#zeros"
   ]
  },
  {
   "cell_type": "code",
   "execution_count": 20,
   "id": "b663ed1a",
   "metadata": {
    "ExecuteTime": {
     "end_time": "2022-12-30T12:46:57.730856Z",
     "start_time": "2022-12-30T12:46:57.707189Z"
    }
   },
   "outputs": [
    {
     "data": {
      "text/plain": [
       "array([[0., 0.],\n",
       "       [0., 0.]])"
      ]
     },
     "execution_count": 20,
     "metadata": {},
     "output_type": "execute_result"
    }
   ],
   "source": [
    "z=np.zeros([2,2])\n",
    "z"
   ]
  },
  {
   "cell_type": "code",
   "execution_count": 21,
   "id": "5c4908ce",
   "metadata": {
    "ExecuteTime": {
     "end_time": "2022-12-30T12:47:14.032341Z",
     "start_time": "2022-12-30T12:47:14.012980Z"
    }
   },
   "outputs": [],
   "source": [
    "#ones"
   ]
  },
  {
   "cell_type": "code",
   "execution_count": 22,
   "id": "199e2dd5",
   "metadata": {
    "ExecuteTime": {
     "end_time": "2022-12-30T12:47:40.525222Z",
     "start_time": "2022-12-30T12:47:40.498535Z"
    }
   },
   "outputs": [
    {
     "data": {
      "text/plain": [
       "array([[1., 1., 1., 1., 1.],\n",
       "       [1., 1., 1., 1., 1.],\n",
       "       [1., 1., 1., 1., 1.],\n",
       "       [1., 1., 1., 1., 1.],\n",
       "       [1., 1., 1., 1., 1.]])"
      ]
     },
     "execution_count": 22,
     "metadata": {},
     "output_type": "execute_result"
    }
   ],
   "source": [
    "o=np.ones([5,5])\n",
    "o"
   ]
  },
  {
   "cell_type": "code",
   "execution_count": 23,
   "id": "2023013a",
   "metadata": {
    "ExecuteTime": {
     "end_time": "2022-12-30T12:48:00.369034Z",
     "start_time": "2022-12-30T12:48:00.349464Z"
    }
   },
   "outputs": [],
   "source": [
    "#random"
   ]
  },
  {
   "cell_type": "code",
   "execution_count": 24,
   "id": "85526a74",
   "metadata": {
    "ExecuteTime": {
     "end_time": "2022-12-30T12:48:37.874405Z",
     "start_time": "2022-12-30T12:48:37.852190Z"
    }
   },
   "outputs": [
    {
     "data": {
      "text/plain": [
       "array([[0.33362439, 0.94947872, 0.03190672, 0.80787789, 0.63399947],\n",
       "       [0.0116653 , 0.77671643, 0.73368002, 0.77206963, 0.97772525],\n",
       "       [0.26411001, 0.0304475 , 0.29123896, 0.88409616, 0.90206431],\n",
       "       [0.22567968, 0.98129013, 0.28003763, 0.61133452, 0.63893692],\n",
       "       [0.76563985, 0.78040045, 0.83978964, 0.86797071, 0.25084677]])"
      ]
     },
     "execution_count": 24,
     "metadata": {},
     "output_type": "execute_result"
    }
   ],
   "source": [
    "r=np.random.rand(5,5)\n",
    "r"
   ]
  },
  {
   "cell_type": "code",
   "execution_count": 27,
   "id": "5abfdf21",
   "metadata": {
    "ExecuteTime": {
     "end_time": "2022-12-30T12:57:18.877596Z",
     "start_time": "2022-12-30T12:57:18.861097Z"
    }
   },
   "outputs": [
    {
     "data": {
      "text/plain": [
       "array([4, 4, 0, 0, 2, 3, 4, 0, 1, 2])"
      ]
     },
     "execution_count": 27,
     "metadata": {},
     "output_type": "execute_result"
    }
   ],
   "source": [
    "r=np.random.randint(5, size=10)\n",
    "r"
   ]
  },
  {
   "cell_type": "markdown",
   "id": "1d13dbfc",
   "metadata": {},
   "source": [
    "# Slicing and indexing of arrays"
   ]
  },
  {
   "cell_type": "code",
   "execution_count": 28,
   "id": "4b0ee141",
   "metadata": {
    "ExecuteTime": {
     "end_time": "2022-12-30T12:59:19.530626Z",
     "start_time": "2022-12-30T12:59:19.516385Z"
    }
   },
   "outputs": [
    {
     "data": {
      "text/plain": [
       "array([[1, 2, 3],\n",
       "       [4, 5, 6]])"
      ]
     },
     "execution_count": 28,
     "metadata": {},
     "output_type": "execute_result"
    }
   ],
   "source": [
    "a=np.array([[1,2,3],[4,5,6]])\n",
    "a"
   ]
  },
  {
   "cell_type": "code",
   "execution_count": 29,
   "id": "8c4ae0ab",
   "metadata": {
    "ExecuteTime": {
     "end_time": "2022-12-30T12:59:42.183157Z",
     "start_time": "2022-12-30T12:59:42.162152Z"
    }
   },
   "outputs": [
    {
     "data": {
      "text/plain": [
       "1"
      ]
     },
     "execution_count": 29,
     "metadata": {},
     "output_type": "execute_result"
    }
   ],
   "source": [
    "a[0,0]"
   ]
  },
  {
   "cell_type": "code",
   "execution_count": 30,
   "id": "bf16b2bd",
   "metadata": {
    "ExecuteTime": {
     "end_time": "2022-12-30T12:59:51.589956Z",
     "start_time": "2022-12-30T12:59:51.573078Z"
    }
   },
   "outputs": [
    {
     "data": {
      "text/plain": [
       "6"
      ]
     },
     "execution_count": 30,
     "metadata": {},
     "output_type": "execute_result"
    }
   ],
   "source": [
    "a[1,2]"
   ]
  },
  {
   "cell_type": "code",
   "execution_count": 31,
   "id": "322d3a48",
   "metadata": {
    "ExecuteTime": {
     "end_time": "2022-12-30T13:00:03.497974Z",
     "start_time": "2022-12-30T13:00:03.476343Z"
    }
   },
   "outputs": [
    {
     "data": {
      "text/plain": [
       "array([[1, 2, 3],\n",
       "       [4, 5, 6]])"
      ]
     },
     "execution_count": 31,
     "metadata": {},
     "output_type": "execute_result"
    }
   ],
   "source": [
    "a"
   ]
  },
  {
   "cell_type": "code",
   "execution_count": 32,
   "id": "b7db63ed",
   "metadata": {
    "ExecuteTime": {
     "end_time": "2022-12-30T13:00:24.419847Z",
     "start_time": "2022-12-30T13:00:24.404221Z"
    }
   },
   "outputs": [
    {
     "data": {
      "text/plain": [
       "array([2, 3])"
      ]
     },
     "execution_count": 32,
     "metadata": {},
     "output_type": "execute_result"
    }
   ],
   "source": [
    "a[0,1:]"
   ]
  },
  {
   "cell_type": "code",
   "execution_count": 33,
   "id": "0b94498c",
   "metadata": {
    "ExecuteTime": {
     "end_time": "2022-12-30T13:01:24.612032Z",
     "start_time": "2022-12-30T13:01:24.586653Z"
    }
   },
   "outputs": [
    {
     "data": {
      "text/plain": [
       "array([[2, 3],\n",
       "       [5, 6]])"
      ]
     },
     "execution_count": 33,
     "metadata": {},
     "output_type": "execute_result"
    }
   ],
   "source": [
    "a[0:,1:]"
   ]
  },
  {
   "cell_type": "code",
   "execution_count": 34,
   "id": "9471b91b",
   "metadata": {
    "ExecuteTime": {
     "end_time": "2022-12-30T13:01:31.066842Z",
     "start_time": "2022-12-30T13:01:31.052541Z"
    }
   },
   "outputs": [
    {
     "data": {
      "text/plain": [
       "array([[1, 2, 3],\n",
       "       [4, 5, 6]])"
      ]
     },
     "execution_count": 34,
     "metadata": {},
     "output_type": "execute_result"
    }
   ],
   "source": [
    "a"
   ]
  },
  {
   "cell_type": "code",
   "execution_count": 35,
   "id": "a525806e",
   "metadata": {
    "ExecuteTime": {
     "end_time": "2022-12-30T13:03:49.897469Z",
     "start_time": "2022-12-30T13:03:49.883647Z"
    }
   },
   "outputs": [
    {
     "data": {
      "text/plain": [
       "array([1, 6])"
      ]
     },
     "execution_count": 35,
     "metadata": {},
     "output_type": "execute_result"
    }
   ],
   "source": [
    "#1 and 6\n",
    "a[[0,1],[0,2]]"
   ]
  },
  {
   "cell_type": "code",
   "execution_count": 36,
   "id": "c6778fca",
   "metadata": {
    "ExecuteTime": {
     "end_time": "2022-12-30T13:04:21.685790Z",
     "start_time": "2022-12-30T13:04:21.675556Z"
    }
   },
   "outputs": [],
   "source": [
    "#3and 4"
   ]
  },
  {
   "cell_type": "code",
   "execution_count": 37,
   "id": "982cfb6f",
   "metadata": {
    "ExecuteTime": {
     "end_time": "2022-12-30T13:04:54.163919Z",
     "start_time": "2022-12-30T13:04:54.147362Z"
    }
   },
   "outputs": [
    {
     "data": {
      "text/plain": [
       "array([1, 6])"
      ]
     },
     "execution_count": 37,
     "metadata": {},
     "output_type": "execute_result"
    }
   ],
   "source": [
    "a[[0,1],[0,2]]"
   ]
  },
  {
   "cell_type": "markdown",
   "id": "73475135",
   "metadata": {},
   "source": [
    "# Reshaping the arrays"
   ]
  },
  {
   "cell_type": "code",
   "execution_count": 38,
   "id": "6335eb27",
   "metadata": {
    "ExecuteTime": {
     "end_time": "2022-12-30T13:07:48.786522Z",
     "start_time": "2022-12-30T13:07:48.773898Z"
    }
   },
   "outputs": [
    {
     "data": {
      "text/plain": [
       "array([[0.94076997, 0.86177793],\n",
       "       [0.41939255, 0.34300685],\n",
       "       [0.29792478, 0.64118885],\n",
       "       [0.54455102, 0.78332928],\n",
       "       [0.71082379, 0.54985407]])"
      ]
     },
     "execution_count": 38,
     "metadata": {},
     "output_type": "execute_result"
    }
   ],
   "source": [
    "a=np.random.rand(5,2)\n",
    "a"
   ]
  },
  {
   "cell_type": "code",
   "execution_count": 39,
   "id": "a71f687b",
   "metadata": {
    "ExecuteTime": {
     "end_time": "2022-12-30T13:08:12.529030Z",
     "start_time": "2022-12-30T13:08:12.515303Z"
    }
   },
   "outputs": [
    {
     "data": {
      "text/plain": [
       "array([[0.94076997, 0.86177793, 0.41939255, 0.34300685, 0.29792478],\n",
       "       [0.64118885, 0.54455102, 0.78332928, 0.71082379, 0.54985407]])"
      ]
     },
     "execution_count": 39,
     "metadata": {},
     "output_type": "execute_result"
    }
   ],
   "source": [
    "a.reshape(2,5)"
   ]
  },
  {
   "cell_type": "code",
   "execution_count": 40,
   "id": "ba13125e",
   "metadata": {
    "ExecuteTime": {
     "end_time": "2022-12-30T13:08:44.619656Z",
     "start_time": "2022-12-30T13:08:44.602529Z"
    }
   },
   "outputs": [
    {
     "data": {
      "text/plain": [
       "array([[0.94076997],\n",
       "       [0.86177793],\n",
       "       [0.41939255],\n",
       "       [0.34300685],\n",
       "       [0.29792478],\n",
       "       [0.64118885],\n",
       "       [0.54455102],\n",
       "       [0.78332928],\n",
       "       [0.71082379],\n",
       "       [0.54985407]])"
      ]
     },
     "execution_count": 40,
     "metadata": {},
     "output_type": "execute_result"
    }
   ],
   "source": [
    "a.reshape(10,1)"
   ]
  },
  {
   "cell_type": "code",
   "execution_count": 41,
   "id": "6fa1510b",
   "metadata": {
    "ExecuteTime": {
     "end_time": "2022-12-30T13:09:10.571171Z",
     "start_time": "2022-12-30T13:09:10.553977Z"
    }
   },
   "outputs": [
    {
     "data": {
      "text/plain": [
       "array([[0.94076997, 0.86177793, 0.41939255, 0.34300685, 0.29792478,\n",
       "        0.64118885, 0.54455102, 0.78332928, 0.71082379, 0.54985407]])"
      ]
     },
     "execution_count": 41,
     "metadata": {},
     "output_type": "execute_result"
    }
   ],
   "source": [
    "a.reshape(1,10)"
   ]
  },
  {
   "cell_type": "code",
   "execution_count": 42,
   "id": "7ee85bb4",
   "metadata": {
    "ExecuteTime": {
     "end_time": "2022-12-30T13:09:30.279449Z",
     "start_time": "2022-12-30T13:09:30.266149Z"
    }
   },
   "outputs": [
    {
     "data": {
      "text/plain": [
       "array([[0.94076997, 0.86177793],\n",
       "       [0.41939255, 0.34300685],\n",
       "       [0.29792478, 0.64118885],\n",
       "       [0.54455102, 0.78332928],\n",
       "       [0.71082379, 0.54985407]])"
      ]
     },
     "execution_count": 42,
     "metadata": {},
     "output_type": "execute_result"
    }
   ],
   "source": [
    "a.reshape(5,-1)"
   ]
  },
  {
   "cell_type": "markdown",
   "id": "a793e31e",
   "metadata": {},
   "source": [
    "# Aggregate Function\n",
    ".The Python numpy aggregate functions are sum,min,max,mean.average,product,median,SD,variance,percentile and corr.coef"
   ]
  },
  {
   "cell_type": "code",
   "execution_count": 43,
   "id": "3756190d",
   "metadata": {
    "ExecuteTime": {
     "end_time": "2022-12-30T13:14:17.745175Z",
     "start_time": "2022-12-30T13:14:17.731893Z"
    }
   },
   "outputs": [
    {
     "data": {
      "text/plain": [
       "0.2979247760942505"
      ]
     },
     "execution_count": 43,
     "metadata": {},
     "output_type": "execute_result"
    }
   ],
   "source": [
    "a.min()"
   ]
  },
  {
   "cell_type": "code",
   "execution_count": 44,
   "id": "05cc958e",
   "metadata": {
    "ExecuteTime": {
     "end_time": "2022-12-30T13:14:27.210794Z",
     "start_time": "2022-12-30T13:14:27.180219Z"
    }
   },
   "outputs": [
    {
     "data": {
      "text/plain": [
       "0.20661201733568949"
      ]
     },
     "execution_count": 44,
     "metadata": {},
     "output_type": "execute_result"
    }
   ],
   "source": [
    "a.std()"
   ]
  },
  {
   "cell_type": "code",
   "execution_count": 45,
   "id": "642c1dad",
   "metadata": {
    "ExecuteTime": {
     "end_time": "2022-12-30T13:14:36.118590Z",
     "start_time": "2022-12-30T13:14:36.106194Z"
    }
   },
   "outputs": [
    {
     "data": {
      "text/plain": [
       "0.04268852570752325"
      ]
     },
     "execution_count": 45,
     "metadata": {},
     "output_type": "execute_result"
    }
   ],
   "source": [
    "a.var()"
   ]
  },
  {
   "cell_type": "code",
   "execution_count": 46,
   "id": "e3441957",
   "metadata": {
    "ExecuteTime": {
     "end_time": "2022-12-30T13:14:45.165247Z",
     "start_time": "2022-12-30T13:14:45.154228Z"
    }
   },
   "outputs": [
    {
     "data": {
      "text/plain": [
       "0.6092619075916591"
      ]
     },
     "execution_count": 46,
     "metadata": {},
     "output_type": "execute_result"
    }
   ],
   "source": [
    "a.mean()"
   ]
  },
  {
   "cell_type": "markdown",
   "id": "a0ab044f",
   "metadata": {},
   "source": [
    "# Stacking\n",
    "\n",
    ".stacking is used to join different arrays.\n",
    ".vertical stacking\n",
    ".Horizontal stacking"
   ]
  },
  {
   "cell_type": "code",
   "execution_count": 47,
   "id": "9712b481",
   "metadata": {
    "ExecuteTime": {
     "end_time": "2022-12-30T13:18:06.068523Z",
     "start_time": "2022-12-30T13:18:06.044315Z"
    }
   },
   "outputs": [],
   "source": [
    "a=np.array([1,2,3,4,5])\n",
    "b=np.array([4,5,6,8,7])"
   ]
  },
  {
   "cell_type": "code",
   "execution_count": 48,
   "id": "5e20f4a4",
   "metadata": {
    "ExecuteTime": {
     "end_time": "2022-12-30T13:18:28.678920Z",
     "start_time": "2022-12-30T13:18:28.658229Z"
    }
   },
   "outputs": [
    {
     "data": {
      "text/plain": [
       "array([1, 2, 3, 4, 5, 4, 5, 6, 8, 7])"
      ]
     },
     "execution_count": 48,
     "metadata": {},
     "output_type": "execute_result"
    }
   ],
   "source": [
    "np.hstack([a,b])"
   ]
  },
  {
   "cell_type": "code",
   "execution_count": 49,
   "id": "0260f6b1",
   "metadata": {
    "ExecuteTime": {
     "end_time": "2022-12-30T13:18:48.755569Z",
     "start_time": "2022-12-30T13:18:48.740092Z"
    }
   },
   "outputs": [
    {
     "data": {
      "text/plain": [
       "array([[1, 2, 3, 4, 5],\n",
       "       [4, 5, 6, 8, 7]])"
      ]
     },
     "execution_count": 49,
     "metadata": {},
     "output_type": "execute_result"
    }
   ],
   "source": [
    "np.vstack([a,b])"
   ]
  },
  {
   "cell_type": "code",
   "execution_count": null,
   "id": "358124f3",
   "metadata": {},
   "outputs": [],
   "source": []
  }
 ],
 "metadata": {
  "kernelspec": {
   "display_name": "Python 3 (ipykernel)",
   "language": "python",
   "name": "python3"
  },
  "language_info": {
   "codemirror_mode": {
    "name": "ipython",
    "version": 3
   },
   "file_extension": ".py",
   "mimetype": "text/x-python",
   "name": "python",
   "nbconvert_exporter": "python",
   "pygments_lexer": "ipython3",
   "version": "3.9.13"
  }
 },
 "nbformat": 4,
 "nbformat_minor": 5
}
