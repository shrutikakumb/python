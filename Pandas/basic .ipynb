{
 "cells": [
  {
   "cell_type": "code",
   "execution_count": 1,
   "id": "2365d750",
   "metadata": {
    "ExecuteTime": {
     "end_time": "2022-12-20T11:00:18.217788Z",
     "start_time": "2022-12-20T11:00:18.194442Z"
    }
   },
   "outputs": [],
   "source": [
    "#Variable "
   ]
  },
  {
   "cell_type": "code",
   "execution_count": 2,
   "id": "0b1bad40",
   "metadata": {
    "ExecuteTime": {
     "end_time": "2022-12-20T11:02:17.753590Z",
     "start_time": "2022-12-20T11:02:17.733984Z"
    }
   },
   "outputs": [
    {
     "name": "stdout",
     "output_type": "stream",
     "text": [
      "500\n"
     ]
    }
   ],
   "source": [
    "a=500\n",
    "type(a)\n",
    "print(a)"
   ]
  },
  {
   "cell_type": "code",
   "execution_count": 3,
   "id": "ffc15912",
   "metadata": {
    "ExecuteTime": {
     "end_time": "2022-12-20T11:02:49.354523Z",
     "start_time": "2022-12-20T11:02:49.339671Z"
    }
   },
   "outputs": [],
   "source": [
    "a=10\n",
    "b=20"
   ]
  },
  {
   "cell_type": "code",
   "execution_count": 4,
   "id": "81428f67",
   "metadata": {
    "ExecuteTime": {
     "end_time": "2022-12-20T11:02:57.515957Z",
     "start_time": "2022-12-20T11:02:57.484149Z"
    }
   },
   "outputs": [
    {
     "data": {
      "text/plain": [
       "False"
      ]
     },
     "execution_count": 4,
     "metadata": {},
     "output_type": "execute_result"
    }
   ],
   "source": [
    "a==b"
   ]
  },
  {
   "cell_type": "code",
   "execution_count": 5,
   "id": "8b9ea182",
   "metadata": {
    "ExecuteTime": {
     "end_time": "2022-12-20T11:03:11.615843Z",
     "start_time": "2022-12-20T11:03:11.596897Z"
    }
   },
   "outputs": [
    {
     "data": {
      "text/plain": [
       "True"
      ]
     },
     "execution_count": 5,
     "metadata": {},
     "output_type": "execute_result"
    }
   ],
   "source": [
    "a!=b"
   ]
  },
  {
   "cell_type": "code",
   "execution_count": 6,
   "id": "a07c12e9",
   "metadata": {
    "ExecuteTime": {
     "end_time": "2022-12-20T11:03:21.953356Z",
     "start_time": "2022-12-20T11:03:21.929729Z"
    }
   },
   "outputs": [
    {
     "data": {
      "text/plain": [
       "False"
      ]
     },
     "execution_count": 6,
     "metadata": {},
     "output_type": "execute_result"
    }
   ],
   "source": [
    "a>b"
   ]
  },
  {
   "cell_type": "code",
   "execution_count": 7,
   "id": "d5f6299b",
   "metadata": {
    "ExecuteTime": {
     "end_time": "2022-12-20T11:04:12.474728Z",
     "start_time": "2022-12-20T11:04:12.464718Z"
    }
   },
   "outputs": [
    {
     "data": {
      "text/plain": [
       "True"
      ]
     },
     "execution_count": 7,
     "metadata": {},
     "output_type": "execute_result"
    }
   ],
   "source": [
    "a<b"
   ]
  },
  {
   "cell_type": "code",
   "execution_count": 8,
   "id": "0a2971c3",
   "metadata": {
    "ExecuteTime": {
     "end_time": "2022-12-20T11:04:33.169067Z",
     "start_time": "2022-12-20T11:04:33.159728Z"
    }
   },
   "outputs": [],
   "source": [
    "#Single line coments"
   ]
  },
  {
   "cell_type": "code",
   "execution_count": 9,
   "id": "a3b5f8b7",
   "metadata": {
    "ExecuteTime": {
     "end_time": "2022-12-20T11:04:42.247093Z",
     "start_time": "2022-12-20T11:04:42.229049Z"
    }
   },
   "outputs": [],
   "source": [
    "#Good morning"
   ]
  },
  {
   "cell_type": "code",
   "execution_count": 10,
   "id": "2c534ef7",
   "metadata": {
    "ExecuteTime": {
     "end_time": "2022-12-20T11:04:55.906501Z",
     "start_time": "2022-12-20T11:04:55.886153Z"
    }
   },
   "outputs": [],
   "source": [
    "# Multiline coment"
   ]
  },
  {
   "cell_type": "code",
   "execution_count": 11,
   "id": "eeb308eb",
   "metadata": {
    "ExecuteTime": {
     "end_time": "2022-12-20T11:05:18.292610Z",
     "start_time": "2022-12-20T11:05:18.269957Z"
    }
   },
   "outputs": [
    {
     "data": {
      "text/plain": [
       "'this is notebook'"
      ]
     },
     "execution_count": 11,
     "metadata": {},
     "output_type": "execute_result"
    }
   ],
   "source": [
    "'''this is notebook'''"
   ]
  },
  {
   "cell_type": "markdown",
   "id": "4f9ee862",
   "metadata": {},
   "source": [
    "# Data types in python\n",
    "1) Integer\n",
    "2) Float\n",
    "3)String\n",
    "4) Boolean"
   ]
  },
  {
   "cell_type": "code",
   "execution_count": 12,
   "id": "8918ec90",
   "metadata": {
    "ExecuteTime": {
     "end_time": "2022-12-20T11:08:06.045791Z",
     "start_time": "2022-12-20T11:08:06.028384Z"
    }
   },
   "outputs": [
    {
     "name": "stdout",
     "output_type": "stream",
     "text": [
      "<class 'int'>\n"
     ]
    }
   ],
   "source": [
    "#Integer\n",
    "\n",
    "a=500\n",
    "print(type(a))"
   ]
  },
  {
   "cell_type": "code",
   "execution_count": 13,
   "id": "ed0b8edf",
   "metadata": {
    "ExecuteTime": {
     "end_time": "2022-12-20T11:08:23.626938Z",
     "start_time": "2022-12-20T11:08:23.609477Z"
    }
   },
   "outputs": [],
   "source": [
    "f=10.5"
   ]
  },
  {
   "cell_type": "code",
   "execution_count": 14,
   "id": "11ae92c0",
   "metadata": {
    "ExecuteTime": {
     "end_time": "2022-12-20T11:08:33.563289Z",
     "start_time": "2022-12-20T11:08:33.545628Z"
    }
   },
   "outputs": [
    {
     "data": {
      "text/plain": [
       "float"
      ]
     },
     "execution_count": 14,
     "metadata": {},
     "output_type": "execute_result"
    }
   ],
   "source": [
    "type(f)"
   ]
  },
  {
   "cell_type": "code",
   "execution_count": 15,
   "id": "a5f13b12",
   "metadata": {
    "ExecuteTime": {
     "end_time": "2022-12-20T11:13:30.712904Z",
     "start_time": "2022-12-20T11:13:30.702214Z"
    }
   },
   "outputs": [],
   "source": [
    "s='This is python class'\n",
    "s1=\"This is python class\"\n",
    "s2='''This is python class'''\n"
   ]
  },
  {
   "cell_type": "code",
   "execution_count": 16,
   "id": "9c78f70d",
   "metadata": {
    "ExecuteTime": {
     "end_time": "2022-12-20T11:13:39.924221Z",
     "start_time": "2022-12-20T11:13:39.909245Z"
    }
   },
   "outputs": [
    {
     "data": {
      "text/plain": [
       "True"
      ]
     },
     "execution_count": 16,
     "metadata": {},
     "output_type": "execute_result"
    }
   ],
   "source": [
    "s1==s2"
   ]
  },
  {
   "cell_type": "code",
   "execution_count": null,
   "id": "dad3ced8",
   "metadata": {},
   "outputs": [],
   "source": [
    "d=\"It's a notebokk\""
   ]
  },
  {
   "cell_type": "code",
   "execution_count": 1,
   "id": "8623c16a",
   "metadata": {
    "ExecuteTime": {
     "end_time": "2022-12-20T14:21:17.241136Z",
     "start_time": "2022-12-20T14:21:17.219892Z"
    }
   },
   "outputs": [],
   "source": [
    "# Typecasting "
   ]
  },
  {
   "cell_type": "code",
   "execution_count": 4,
   "id": "f90a3cae",
   "metadata": {
    "ExecuteTime": {
     "end_time": "2022-12-20T14:22:13.416180Z",
     "start_time": "2022-12-20T14:22:13.387905Z"
    }
   },
   "outputs": [
    {
     "data": {
      "text/plain": [
       "float"
      ]
     },
     "execution_count": 4,
     "metadata": {},
     "output_type": "execute_result"
    }
   ],
   "source": [
    "a=10.8\n",
    "type(a)"
   ]
  },
  {
   "cell_type": "code",
   "execution_count": 6,
   "id": "d64b4dd2",
   "metadata": {
    "ExecuteTime": {
     "end_time": "2022-12-20T14:23:22.906249Z",
     "start_time": "2022-12-20T14:23:22.886806Z"
    }
   },
   "outputs": [
    {
     "data": {
      "text/plain": [
       "int"
      ]
     },
     "execution_count": 6,
     "metadata": {},
     "output_type": "execute_result"
    }
   ],
   "source": [
    "a=int(a)\n",
    "type(a)"
   ]
  },
  {
   "cell_type": "code",
   "execution_count": 7,
   "id": "9d17e035",
   "metadata": {
    "ExecuteTime": {
     "end_time": "2022-12-20T14:24:19.081976Z",
     "start_time": "2022-12-20T14:24:19.054819Z"
    }
   },
   "outputs": [
    {
     "name": "stdout",
     "output_type": "stream",
     "text": [
      "<class 'str'>\n"
     ]
    },
    {
     "data": {
      "text/plain": [
       "'10'"
      ]
     },
     "execution_count": 7,
     "metadata": {},
     "output_type": "execute_result"
    }
   ],
   "source": [
    "a=str(a)\n",
    "\n",
    "print(type(a))\n",
    "a"
   ]
  },
  {
   "cell_type": "code",
   "execution_count": 8,
   "id": "fd40f01a",
   "metadata": {
    "ExecuteTime": {
     "end_time": "2022-12-20T14:25:05.970536Z",
     "start_time": "2022-12-20T14:25:05.957825Z"
    }
   },
   "outputs": [],
   "source": [
    "b=500"
   ]
  },
  {
   "cell_type": "code",
   "execution_count": 9,
   "id": "27525c79",
   "metadata": {
    "ExecuteTime": {
     "end_time": "2022-12-20T14:25:16.235246Z",
     "start_time": "2022-12-20T14:25:16.224676Z"
    }
   },
   "outputs": [
    {
     "data": {
      "text/plain": [
       "True"
      ]
     },
     "execution_count": 9,
     "metadata": {},
     "output_type": "execute_result"
    }
   ],
   "source": [
    "bool(b)"
   ]
  },
  {
   "cell_type": "markdown",
   "id": "0fd5e1c9",
   "metadata": {
    "ExecuteTime": {
     "end_time": "2022-12-20T14:25:50.508506Z",
     "start_time": "2022-12-20T14:25:50.489378Z"
    }
   },
   "source": [
    "z=0"
   ]
  },
  {
   "cell_type": "code",
   "execution_count": 15,
   "id": "ee7d89b4",
   "metadata": {
    "ExecuteTime": {
     "end_time": "2022-12-20T14:31:10.660691Z",
     "start_time": "2022-12-20T14:31:10.647902Z"
    }
   },
   "outputs": [
    {
     "data": {
      "text/plain": [
       "False"
      ]
     },
     "execution_count": 15,
     "metadata": {},
     "output_type": "execute_result"
    }
   ],
   "source": [
    "bool(z)"
   ]
  },
  {
   "cell_type": "code",
   "execution_count": 16,
   "id": "bce02777",
   "metadata": {
    "ExecuteTime": {
     "end_time": "2022-12-20T14:31:33.092243Z",
     "start_time": "2022-12-20T14:31:33.075115Z"
    }
   },
   "outputs": [],
   "source": [
    "k=10"
   ]
  },
  {
   "cell_type": "code",
   "execution_count": 22,
   "id": "273bb196",
   "metadata": {
    "ExecuteTime": {
     "end_time": "2022-12-20T14:36:14.137635Z",
     "start_time": "2022-12-20T14:36:14.122239Z"
    }
   },
   "outputs": [
    {
     "data": {
      "text/plain": [
       "10.0"
      ]
     },
     "execution_count": 22,
     "metadata": {},
     "output_type": "execute_result"
    }
   ],
   "source": [
    "float(k)"
   ]
  },
  {
   "cell_type": "markdown",
   "id": "e11ef5e3",
   "metadata": {
    "ExecuteTime": {
     "end_time": "2022-12-20T14:33:13.356345Z",
     "start_time": "2022-12-20T14:33:13.344345Z"
    }
   },
   "source": [
    "# String method"
   ]
  },
  {
   "cell_type": "code",
   "execution_count": 19,
   "id": "d807124f",
   "metadata": {
    "ExecuteTime": {
     "end_time": "2022-12-20T14:34:42.690739Z",
     "start_time": "2022-12-20T14:34:42.674033Z"
    }
   },
   "outputs": [],
   "source": [
    "# creat string"
   ]
  },
  {
   "cell_type": "code",
   "execution_count": 5,
   "id": "70768c16",
   "metadata": {
    "ExecuteTime": {
     "end_time": "2022-12-20T16:26:56.697124Z",
     "start_time": "2022-12-20T16:26:56.664256Z"
    }
   },
   "outputs": [
    {
     "data": {
      "text/plain": [
       "'We are lerning python'"
      ]
     },
     "execution_count": 5,
     "metadata": {},
     "output_type": "execute_result"
    }
   ],
   "source": [
    "S= 'We are lerning python'\n",
    "S"
   ]
  },
  {
   "cell_type": "code",
   "execution_count": 7,
   "id": "5c42fc5b",
   "metadata": {
    "ExecuteTime": {
     "end_time": "2022-12-20T16:27:34.790941Z",
     "start_time": "2022-12-20T16:27:34.775296Z"
    }
   },
   "outputs": [
    {
     "data": {
      "text/plain": [
       "'We are lerning python'"
      ]
     },
     "execution_count": 7,
     "metadata": {},
     "output_type": "execute_result"
    }
   ],
   "source": [
    "S.capitalize()"
   ]
  },
  {
   "cell_type": "code",
   "execution_count": 8,
   "id": "f5ecbcc6",
   "metadata": {
    "ExecuteTime": {
     "end_time": "2022-12-20T16:27:55.267471Z",
     "start_time": "2022-12-20T16:27:55.255043Z"
    }
   },
   "outputs": [
    {
     "data": {
      "text/plain": [
       "1"
      ]
     },
     "execution_count": 8,
     "metadata": {},
     "output_type": "execute_result"
    }
   ],
   "source": [
    "S.count('l')"
   ]
  },
  {
   "cell_type": "code",
   "execution_count": 9,
   "id": "30d013f1",
   "metadata": {
    "ExecuteTime": {
     "end_time": "2022-12-20T16:28:08.101426Z",
     "start_time": "2022-12-20T16:28:08.084104Z"
    }
   },
   "outputs": [
    {
     "data": {
      "text/plain": [
       "3"
      ]
     },
     "execution_count": 9,
     "metadata": {},
     "output_type": "execute_result"
    }
   ],
   "source": [
    "S.count('e')"
   ]
  },
  {
   "cell_type": "code",
   "execution_count": 10,
   "id": "584de911",
   "metadata": {
    "ExecuteTime": {
     "end_time": "2022-12-20T16:28:34.277585Z",
     "start_time": "2022-12-20T16:28:34.256114Z"
    }
   },
   "outputs": [
    {
     "data": {
      "text/plain": [
       "False"
      ]
     },
     "execution_count": 10,
     "metadata": {},
     "output_type": "execute_result"
    }
   ],
   "source": [
    "S.endswith('N')"
   ]
  },
  {
   "cell_type": "code",
   "execution_count": 12,
   "id": "55fde422",
   "metadata": {
    "ExecuteTime": {
     "end_time": "2022-12-20T16:29:08.580197Z",
     "start_time": "2022-12-20T16:29:08.565963Z"
    }
   },
   "outputs": [
    {
     "data": {
      "text/plain": [
       "3"
      ]
     },
     "execution_count": 12,
     "metadata": {},
     "output_type": "execute_result"
    }
   ],
   "source": [
    "S.find('a')"
   ]
  },
  {
   "cell_type": "code",
   "execution_count": 13,
   "id": "78bd19ef",
   "metadata": {
    "ExecuteTime": {
     "end_time": "2022-12-20T16:29:26.384898Z",
     "start_time": "2022-12-20T16:29:26.365787Z"
    }
   },
   "outputs": [
    {
     "data": {
      "text/plain": [
       "15"
      ]
     },
     "execution_count": 13,
     "metadata": {},
     "output_type": "execute_result"
    }
   ],
   "source": [
    "S.index('p')"
   ]
  },
  {
   "cell_type": "code",
   "execution_count": 14,
   "id": "0203caf8",
   "metadata": {
    "ExecuteTime": {
     "end_time": "2022-12-20T16:29:44.767414Z",
     "start_time": "2022-12-20T16:29:44.752358Z"
    }
   },
   "outputs": [
    {
     "data": {
      "text/plain": [
       "False"
      ]
     },
     "execution_count": 14,
     "metadata": {},
     "output_type": "execute_result"
    }
   ],
   "source": [
    "S.islower()"
   ]
  },
  {
   "cell_type": "code",
   "execution_count": 18,
   "id": "95121a01",
   "metadata": {
    "ExecuteTime": {
     "end_time": "2022-12-20T16:32:41.593404Z",
     "start_time": "2022-12-20T16:32:41.574347Z"
    }
   },
   "outputs": [
    {
     "data": {
      "text/plain": [
       "'W*e* *a*r*e* *l*e*r*n*i*n*g* *p*y*t*h*o*n'"
      ]
     },
     "execution_count": 18,
     "metadata": {},
     "output_type": "execute_result"
    }
   ],
   "source": [
    "'*'.join(S)"
   ]
  },
  {
   "cell_type": "code",
   "execution_count": 19,
   "id": "2f3ee399",
   "metadata": {
    "ExecuteTime": {
     "end_time": "2022-12-20T16:33:28.645391Z",
     "start_time": "2022-12-20T16:33:28.624539Z"
    }
   },
   "outputs": [
    {
     "data": {
      "text/plain": [
       "'W-e- -a-r-e- -l-e-r-n-i-n-g- -p-y-t-h-o-n'"
      ]
     },
     "execution_count": 19,
     "metadata": {},
     "output_type": "execute_result"
    }
   ],
   "source": [
    "'-'.join(S)"
   ]
  },
  {
   "cell_type": "code",
   "execution_count": 20,
   "id": "5c15b6e7",
   "metadata": {
    "ExecuteTime": {
     "end_time": "2022-12-20T16:44:59.778382Z",
     "start_time": "2022-12-20T16:44:59.765786Z"
    }
   },
   "outputs": [],
   "source": [
    "S=S.replace('-','#')"
   ]
  },
  {
   "cell_type": "code",
   "execution_count": 21,
   "id": "714a1a68",
   "metadata": {
    "ExecuteTime": {
     "end_time": "2022-12-20T16:45:17.872767Z",
     "start_time": "2022-12-20T16:45:17.852840Z"
    }
   },
   "outputs": [
    {
     "data": {
      "text/plain": [
       "'We are lerning python'"
      ]
     },
     "execution_count": 21,
     "metadata": {},
     "output_type": "execute_result"
    }
   ],
   "source": [
    "S"
   ]
  },
  {
   "cell_type": "code",
   "execution_count": 22,
   "id": "bd462f10",
   "metadata": {
    "ExecuteTime": {
     "end_time": "2022-12-20T16:45:45.640078Z",
     "start_time": "2022-12-20T16:45:45.624316Z"
    }
   },
   "outputs": [
    {
     "data": {
      "text/plain": [
       "['We are lerning python']"
      ]
     },
     "execution_count": 22,
     "metadata": {},
     "output_type": "execute_result"
    }
   ],
   "source": [
    "S.split('#')"
   ]
  },
  {
   "cell_type": "code",
   "execution_count": 23,
   "id": "0c509f8a",
   "metadata": {
    "ExecuteTime": {
     "end_time": "2022-12-20T16:46:16.934163Z",
     "start_time": "2022-12-20T16:46:16.920827Z"
    }
   },
   "outputs": [
    {
     "data": {
      "text/plain": [
       "'wE ARE LERNING PYTHON'"
      ]
     },
     "execution_count": 23,
     "metadata": {},
     "output_type": "execute_result"
    }
   ],
   "source": [
    "S.swapcase()"
   ]
  },
  {
   "cell_type": "code",
   "execution_count": 24,
   "id": "606e2fae",
   "metadata": {
    "ExecuteTime": {
     "end_time": "2022-12-20T16:46:31.728985Z",
     "start_time": "2022-12-20T16:46:31.719474Z"
    }
   },
   "outputs": [
    {
     "data": {
      "text/plain": [
       "'we are lerning python'"
      ]
     },
     "execution_count": 24,
     "metadata": {},
     "output_type": "execute_result"
    }
   ],
   "source": [
    "S.lower()"
   ]
  },
  {
   "cell_type": "code",
   "execution_count": 25,
   "id": "775ebe71",
   "metadata": {
    "ExecuteTime": {
     "end_time": "2022-12-20T16:46:41.377566Z",
     "start_time": "2022-12-20T16:46:41.362915Z"
    }
   },
   "outputs": [
    {
     "data": {
      "text/plain": [
       "'We Are Lerning Python'"
      ]
     },
     "execution_count": 25,
     "metadata": {},
     "output_type": "execute_result"
    }
   ],
   "source": [
    "S.title()"
   ]
  },
  {
   "cell_type": "code",
   "execution_count": 28,
   "id": "1aa01cec",
   "metadata": {
    "ExecuteTime": {
     "end_time": "2022-12-20T16:56:53.146930Z",
     "start_time": "2022-12-20T16:56:53.129630Z"
    }
   },
   "outputs": [
    {
     "data": {
      "text/plain": [
       "'They are lerning python'"
      ]
     },
     "execution_count": 28,
     "metadata": {},
     "output_type": "execute_result"
    }
   ],
   "source": [
    "S.replace('We','They')"
   ]
  },
  {
   "cell_type": "code",
   "execution_count": 30,
   "id": "35b87eab",
   "metadata": {
    "ExecuteTime": {
     "end_time": "2022-12-20T16:58:21.967454Z",
     "start_time": "2022-12-20T16:58:21.954584Z"
    }
   },
   "outputs": [
    {
     "data": {
      "text/plain": [
       "['We', 'are', 'lerning', 'python']"
      ]
     },
     "execution_count": 30,
     "metadata": {},
     "output_type": "execute_result"
    }
   ],
   "source": [
    "S.split(' ')"
   ]
  },
  {
   "cell_type": "markdown",
   "id": "1d9dd20e",
   "metadata": {},
   "source": [
    "# Data Structures\n",
    "1.lists\n",
    "2.Truple\n",
    "3.Dictionary\n",
    "4.Sets"
   ]
  },
  {
   "cell_type": "code",
   "execution_count": 31,
   "id": "a8884b07",
   "metadata": {
    "ExecuteTime": {
     "end_time": "2022-12-20T17:05:30.867250Z",
     "start_time": "2022-12-20T17:05:30.844901Z"
    }
   },
   "outputs": [],
   "source": [
    "#Creating lists"
   ]
  },
  {
   "cell_type": "code",
   "execution_count": 32,
   "id": "5ee7a13c",
   "metadata": {
    "ExecuteTime": {
     "end_time": "2022-12-20T17:05:56.997425Z",
     "start_time": "2022-12-20T17:05:56.990708Z"
    }
   },
   "outputs": [],
   "source": [
    "lst=[]"
   ]
  },
  {
   "cell_type": "code",
   "execution_count": 33,
   "id": "f2c75be4",
   "metadata": {
    "ExecuteTime": {
     "end_time": "2022-12-20T17:06:15.654298Z",
     "start_time": "2022-12-20T17:06:15.640560Z"
    }
   },
   "outputs": [
    {
     "data": {
      "text/plain": [
       "list"
      ]
     },
     "execution_count": 33,
     "metadata": {},
     "output_type": "execute_result"
    }
   ],
   "source": [
    "type(lst)"
   ]
  },
  {
   "cell_type": "code",
   "execution_count": 34,
   "id": "1315481e",
   "metadata": {
    "ExecuteTime": {
     "end_time": "2022-12-20T17:07:19.913823Z",
     "start_time": "2022-12-20T17:07:19.899241Z"
    }
   },
   "outputs": [],
   "source": [
    "lst=[10,10.5,True,'Hello']"
   ]
  },
  {
   "cell_type": "code",
   "execution_count": 35,
   "id": "75684200",
   "metadata": {
    "ExecuteTime": {
     "end_time": "2022-12-20T17:07:35.040184Z",
     "start_time": "2022-12-20T17:07:35.025560Z"
    }
   },
   "outputs": [
    {
     "data": {
      "text/plain": [
       "[10, 10.5, True, 'Hello']"
      ]
     },
     "execution_count": 35,
     "metadata": {},
     "output_type": "execute_result"
    }
   ],
   "source": [
    "lst"
   ]
  },
  {
   "cell_type": "code",
   "execution_count": 36,
   "id": "dd003a7e",
   "metadata": {
    "ExecuteTime": {
     "end_time": "2022-12-20T17:10:27.892204Z",
     "start_time": "2022-12-20T17:10:27.877871Z"
    }
   },
   "outputs": [],
   "source": [
    "lst1=list()"
   ]
  },
  {
   "cell_type": "code",
   "execution_count": 37,
   "id": "9623ce8e",
   "metadata": {
    "ExecuteTime": {
     "end_time": "2022-12-20T17:10:41.189636Z",
     "start_time": "2022-12-20T17:10:41.172085Z"
    }
   },
   "outputs": [
    {
     "data": {
      "text/plain": [
       "list"
      ]
     },
     "execution_count": 37,
     "metadata": {},
     "output_type": "execute_result"
    }
   ],
   "source": [
    "type(lst1)"
   ]
  },
  {
   "cell_type": "code",
   "execution_count": 38,
   "id": "1575be9d",
   "metadata": {
    "ExecuteTime": {
     "end_time": "2022-12-20T17:11:38.480007Z",
     "start_time": "2022-12-20T17:11:38.458844Z"
    }
   },
   "outputs": [
    {
     "data": {
      "text/plain": [
       "'Hello'"
      ]
     },
     "execution_count": 38,
     "metadata": {},
     "output_type": "execute_result"
    }
   ],
   "source": [
    "#Accessing elements from a list\n",
    "lst[3]"
   ]
  },
  {
   "cell_type": "code",
   "execution_count": 39,
   "id": "c1333645",
   "metadata": {
    "ExecuteTime": {
     "end_time": "2022-12-20T17:11:55.300374Z",
     "start_time": "2022-12-20T17:11:55.276570Z"
    }
   },
   "outputs": [
    {
     "data": {
      "text/plain": [
       "[10.5]"
      ]
     },
     "execution_count": 39,
     "metadata": {},
     "output_type": "execute_result"
    }
   ],
   "source": [
    "lst[1:2]"
   ]
  },
  {
   "cell_type": "code",
   "execution_count": 40,
   "id": "4d0d492e",
   "metadata": {
    "ExecuteTime": {
     "end_time": "2022-12-20T17:15:52.937406Z",
     "start_time": "2022-12-20T17:15:52.925229Z"
    }
   },
   "outputs": [
    {
     "data": {
      "text/plain": [
       "[10.5, True]"
      ]
     },
     "execution_count": 40,
     "metadata": {},
     "output_type": "execute_result"
    }
   ],
   "source": [
    "lst[1:3]"
   ]
  },
  {
   "cell_type": "code",
   "execution_count": 41,
   "id": "2b6f5db2",
   "metadata": {
    "ExecuteTime": {
     "end_time": "2022-12-20T17:16:22.692230Z",
     "start_time": "2022-12-20T17:16:22.669111Z"
    }
   },
   "outputs": [
    {
     "data": {
      "text/plain": [
       "'Hello'"
      ]
     },
     "execution_count": 41,
     "metadata": {},
     "output_type": "execute_result"
    }
   ],
   "source": [
    "lst[-1]"
   ]
  },
  {
   "cell_type": "code",
   "execution_count": 42,
   "id": "5fa2ccc1",
   "metadata": {
    "ExecuteTime": {
     "end_time": "2022-12-20T17:16:41.441912Z",
     "start_time": "2022-12-20T17:16:41.436353Z"
    }
   },
   "outputs": [],
   "source": [
    "#append"
   ]
  },
  {
   "cell_type": "code",
   "execution_count": 43,
   "id": "5f9f4741",
   "metadata": {
    "ExecuteTime": {
     "end_time": "2022-12-20T17:16:57.067088Z",
     "start_time": "2022-12-20T17:16:57.045541Z"
    }
   },
   "outputs": [],
   "source": [
    "lst.append(1000)"
   ]
  },
  {
   "cell_type": "code",
   "execution_count": 44,
   "id": "2bc95cb9",
   "metadata": {
    "ExecuteTime": {
     "end_time": "2022-12-20T17:17:02.096612Z",
     "start_time": "2022-12-20T17:17:02.079740Z"
    }
   },
   "outputs": [
    {
     "data": {
      "text/plain": [
       "[10, 10.5, True, 'Hello', 1000]"
      ]
     },
     "execution_count": 44,
     "metadata": {},
     "output_type": "execute_result"
    }
   ],
   "source": [
    "lst"
   ]
  },
  {
   "cell_type": "code",
   "execution_count": 45,
   "id": "a7c234a8",
   "metadata": {
    "ExecuteTime": {
     "end_time": "2022-12-20T17:17:18.955948Z",
     "start_time": "2022-12-20T17:17:18.942069Z"
    }
   },
   "outputs": [
    {
     "data": {
      "text/plain": [
       "0"
      ]
     },
     "execution_count": 45,
     "metadata": {},
     "output_type": "execute_result"
    }
   ],
   "source": [
    "lst.count(50)"
   ]
  },
  {
   "cell_type": "code",
   "execution_count": 46,
   "id": "00e25cf4",
   "metadata": {
    "ExecuteTime": {
     "end_time": "2022-12-20T17:17:29.210655Z",
     "start_time": "2022-12-20T17:17:29.190891Z"
    }
   },
   "outputs": [],
   "source": [
    "#Index"
   ]
  },
  {
   "cell_type": "code",
   "execution_count": 48,
   "id": "65083f5a",
   "metadata": {
    "ExecuteTime": {
     "end_time": "2022-12-20T17:21:13.069917Z",
     "start_time": "2022-12-20T17:21:13.049556Z"
    }
   },
   "outputs": [
    {
     "data": {
      "text/plain": [
       "1"
      ]
     },
     "execution_count": 48,
     "metadata": {},
     "output_type": "execute_result"
    }
   ],
   "source": [
    "lst.index(10.5)"
   ]
  },
  {
   "cell_type": "code",
   "execution_count": 49,
   "id": "6d080de8",
   "metadata": {
    "ExecuteTime": {
     "end_time": "2022-12-20T17:21:29.425311Z",
     "start_time": "2022-12-20T17:21:29.409049Z"
    }
   },
   "outputs": [
    {
     "data": {
      "text/plain": [
       "[10, 10.5, True, 'Hello', 1000]"
      ]
     },
     "execution_count": 49,
     "metadata": {},
     "output_type": "execute_result"
    }
   ],
   "source": [
    "lst"
   ]
  },
  {
   "cell_type": "code",
   "execution_count": 50,
   "id": "f806a3a1",
   "metadata": {
    "ExecuteTime": {
     "end_time": "2022-12-20T17:21:46.701942Z",
     "start_time": "2022-12-20T17:21:46.685115Z"
    }
   },
   "outputs": [],
   "source": [
    "#Insert"
   ]
  },
  {
   "cell_type": "code",
   "execution_count": 51,
   "id": "f98e0773",
   "metadata": {
    "ExecuteTime": {
     "end_time": "2022-12-20T17:22:09.532382Z",
     "start_time": "2022-12-20T17:22:09.510738Z"
    }
   },
   "outputs": [],
   "source": [
    "lst.insert(0,50)"
   ]
  },
  {
   "cell_type": "code",
   "execution_count": 52,
   "id": "96d7e288",
   "metadata": {
    "ExecuteTime": {
     "end_time": "2022-12-20T17:22:16.992323Z",
     "start_time": "2022-12-20T17:22:16.971119Z"
    }
   },
   "outputs": [
    {
     "data": {
      "text/plain": [
       "[50, 10, 10.5, True, 'Hello', 1000]"
      ]
     },
     "execution_count": 52,
     "metadata": {},
     "output_type": "execute_result"
    }
   ],
   "source": [
    "lst"
   ]
  },
  {
   "cell_type": "code",
   "execution_count": 53,
   "id": "361fb9ae",
   "metadata": {
    "ExecuteTime": {
     "end_time": "2022-12-20T17:23:13.850267Z",
     "start_time": "2022-12-20T17:23:13.828120Z"
    }
   },
   "outputs": [
    {
     "data": {
      "text/plain": [
       "1"
      ]
     },
     "execution_count": 53,
     "metadata": {},
     "output_type": "execute_result"
    }
   ],
   "source": [
    "lst.count(50)"
   ]
  },
  {
   "cell_type": "code",
   "execution_count": 54,
   "id": "800fc181",
   "metadata": {
    "ExecuteTime": {
     "end_time": "2022-12-20T17:23:22.698118Z",
     "start_time": "2022-12-20T17:23:22.677505Z"
    }
   },
   "outputs": [
    {
     "data": {
      "text/plain": [
       "[50, 10, 10.5, True, 'Hello', 1000]"
      ]
     },
     "execution_count": 54,
     "metadata": {},
     "output_type": "execute_result"
    }
   ],
   "source": [
    "lst"
   ]
  },
  {
   "cell_type": "code",
   "execution_count": 55,
   "id": "c16de054",
   "metadata": {
    "ExecuteTime": {
     "end_time": "2022-12-20T17:23:35.307791Z",
     "start_time": "2022-12-20T17:23:35.291230Z"
    }
   },
   "outputs": [],
   "source": [
    "#Pop"
   ]
  },
  {
   "cell_type": "code",
   "execution_count": 56,
   "id": "6f3b85dd",
   "metadata": {
    "ExecuteTime": {
     "end_time": "2022-12-20T17:23:56.300500Z",
     "start_time": "2022-12-20T17:23:56.285656Z"
    }
   },
   "outputs": [
    {
     "data": {
      "text/plain": [
       "1000"
      ]
     },
     "execution_count": 56,
     "metadata": {},
     "output_type": "execute_result"
    }
   ],
   "source": [
    "lst.pop()"
   ]
  },
  {
   "cell_type": "code",
   "execution_count": 57,
   "id": "da7fb3cb",
   "metadata": {
    "ExecuteTime": {
     "end_time": "2022-12-20T17:24:03.088387Z",
     "start_time": "2022-12-20T17:24:03.072844Z"
    }
   },
   "outputs": [
    {
     "data": {
      "text/plain": [
       "[50, 10, 10.5, True, 'Hello']"
      ]
     },
     "execution_count": 57,
     "metadata": {},
     "output_type": "execute_result"
    }
   ],
   "source": [
    "lst"
   ]
  },
  {
   "cell_type": "code",
   "execution_count": 58,
   "id": "63ba5a1c",
   "metadata": {
    "ExecuteTime": {
     "end_time": "2022-12-20T17:24:21.981636Z",
     "start_time": "2022-12-20T17:24:21.973101Z"
    }
   },
   "outputs": [],
   "source": [
    "#Reverse"
   ]
  },
  {
   "cell_type": "code",
   "execution_count": 59,
   "id": "7abe6806",
   "metadata": {
    "ExecuteTime": {
     "end_time": "2022-12-20T17:24:36.209009Z",
     "start_time": "2022-12-20T17:24:36.189898Z"
    }
   },
   "outputs": [],
   "source": [
    "lst.reverse()"
   ]
  },
  {
   "cell_type": "code",
   "execution_count": 60,
   "id": "1209212e",
   "metadata": {
    "ExecuteTime": {
     "end_time": "2022-12-20T17:24:41.462578Z",
     "start_time": "2022-12-20T17:24:41.442706Z"
    }
   },
   "outputs": [
    {
     "data": {
      "text/plain": [
       "['Hello', True, 10.5, 10, 50]"
      ]
     },
     "execution_count": 60,
     "metadata": {},
     "output_type": "execute_result"
    }
   ],
   "source": [
    "lst"
   ]
  },
  {
   "cell_type": "markdown",
   "id": "8a6cd12e",
   "metadata": {},
   "source": [
    "# Tuple"
   ]
  },
  {
   "cell_type": "code",
   "execution_count": 2,
   "id": "18eb8489",
   "metadata": {
    "ExecuteTime": {
     "end_time": "2022-12-21T09:57:53.771129Z",
     "start_time": "2022-12-21T09:57:53.750256Z"
    }
   },
   "outputs": [],
   "source": [
    "# Create a tuple\n",
    "\n",
    "t=(10,1.2,'Hi',1000,15.2)"
   ]
  },
  {
   "cell_type": "code",
   "execution_count": 3,
   "id": "23967905",
   "metadata": {
    "ExecuteTime": {
     "end_time": "2022-12-21T09:58:05.790623Z",
     "start_time": "2022-12-21T09:58:05.768668Z"
    }
   },
   "outputs": [
    {
     "data": {
      "text/plain": [
       "tuple"
      ]
     },
     "execution_count": 3,
     "metadata": {},
     "output_type": "execute_result"
    }
   ],
   "source": [
    "type(t)"
   ]
  },
  {
   "cell_type": "code",
   "execution_count": 4,
   "id": "f2cc326c",
   "metadata": {
    "ExecuteTime": {
     "end_time": "2022-12-21T09:58:16.552250Z",
     "start_time": "2022-12-21T09:58:16.535578Z"
    }
   },
   "outputs": [
    {
     "data": {
      "text/plain": [
       "(10, 1.2, 'Hi', 1000, 15.2)"
      ]
     },
     "execution_count": 4,
     "metadata": {},
     "output_type": "execute_result"
    }
   ],
   "source": [
    "t"
   ]
  },
  {
   "cell_type": "code",
   "execution_count": null,
   "id": "523690b0",
   "metadata": {},
   "outputs": [],
   "source": [
    "#count"
   ]
  },
  {
   "cell_type": "code",
   "execution_count": 5,
   "id": "b8d9496d",
   "metadata": {
    "ExecuteTime": {
     "end_time": "2022-12-21T09:58:51.806996Z",
     "start_time": "2022-12-21T09:58:51.787585Z"
    }
   },
   "outputs": [
    {
     "data": {
      "text/plain": [
       "1"
      ]
     },
     "execution_count": 5,
     "metadata": {},
     "output_type": "execute_result"
    }
   ],
   "source": [
    "t.count(1000)"
   ]
  },
  {
   "cell_type": "code",
   "execution_count": 6,
   "id": "7b6a427b",
   "metadata": {
    "ExecuteTime": {
     "end_time": "2022-12-21T09:59:23.856812Z",
     "start_time": "2022-12-21T09:59:23.845372Z"
    }
   },
   "outputs": [],
   "source": [
    "#Accessing elemtnts from tuple"
   ]
  },
  {
   "cell_type": "code",
   "execution_count": 7,
   "id": "4590343e",
   "metadata": {
    "ExecuteTime": {
     "end_time": "2022-12-21T09:59:33.132925Z",
     "start_time": "2022-12-21T09:59:33.122458Z"
    }
   },
   "outputs": [
    {
     "data": {
      "text/plain": [
       "15.2"
      ]
     },
     "execution_count": 7,
     "metadata": {},
     "output_type": "execute_result"
    }
   ],
   "source": [
    "t[4]"
   ]
  },
  {
   "cell_type": "code",
   "execution_count": 8,
   "id": "a0e7df82",
   "metadata": {
    "ExecuteTime": {
     "end_time": "2022-12-21T09:59:46.116871Z",
     "start_time": "2022-12-21T09:59:46.099049Z"
    }
   },
   "outputs": [
    {
     "data": {
      "text/plain": [
       "('Hi', 1000, 15.2)"
      ]
     },
     "execution_count": 8,
     "metadata": {},
     "output_type": "execute_result"
    }
   ],
   "source": [
    "t[2:]"
   ]
  },
  {
   "cell_type": "code",
   "execution_count": 9,
   "id": "ce7399d3",
   "metadata": {
    "ExecuteTime": {
     "end_time": "2022-12-21T10:04:08.434989Z",
     "start_time": "2022-12-21T10:04:08.422079Z"
    }
   },
   "outputs": [],
   "source": [
    "# creating an empty dictionary"
   ]
  },
  {
   "cell_type": "code",
   "execution_count": 11,
   "id": "77f7bc6a",
   "metadata": {
    "ExecuteTime": {
     "end_time": "2022-12-21T10:04:55.576292Z",
     "start_time": "2022-12-21T10:04:55.553250Z"
    }
   },
   "outputs": [
    {
     "data": {
      "text/plain": [
       "dict"
      ]
     },
     "execution_count": 11,
     "metadata": {},
     "output_type": "execute_result"
    }
   ],
   "source": [
    "d={}\n",
    "type(d)"
   ]
  },
  {
   "cell_type": "code",
   "execution_count": 13,
   "id": "0089d11c",
   "metadata": {
    "ExecuteTime": {
     "end_time": "2022-12-21T10:05:26.178520Z",
     "start_time": "2022-12-21T10:05:26.163813Z"
    }
   },
   "outputs": [
    {
     "data": {
      "text/plain": [
       "dict"
      ]
     },
     "execution_count": 13,
     "metadata": {},
     "output_type": "execute_result"
    }
   ],
   "source": [
    "d1=dict()\n",
    "type(d1)"
   ]
  },
  {
   "cell_type": "code",
   "execution_count": 20,
   "id": "65294ed2",
   "metadata": {
    "ExecuteTime": {
     "end_time": "2022-12-21T10:10:12.463854Z",
     "start_time": "2022-12-21T10:10:12.458578Z"
    }
   },
   "outputs": [],
   "source": [
    "#Adding elemnts in dictionary"
   ]
  },
  {
   "cell_type": "code",
   "execution_count": 15,
   "id": "d4112cf3",
   "metadata": {
    "ExecuteTime": {
     "end_time": "2022-12-21T10:06:55.532949Z",
     "start_time": "2022-12-21T10:06:55.520621Z"
    }
   },
   "outputs": [],
   "source": [
    "d={1:10,2:'A',3:True}"
   ]
  },
  {
   "cell_type": "code",
   "execution_count": 16,
   "id": "a43c6bc1",
   "metadata": {
    "ExecuteTime": {
     "end_time": "2022-12-21T10:07:02.109074Z",
     "start_time": "2022-12-21T10:07:02.095426Z"
    }
   },
   "outputs": [
    {
     "data": {
      "text/plain": [
       "{1: 10, 2: 'A', 3: True}"
      ]
     },
     "execution_count": 16,
     "metadata": {},
     "output_type": "execute_result"
    }
   ],
   "source": [
    "d"
   ]
  },
  {
   "cell_type": "code",
   "execution_count": 17,
   "id": "82520d06",
   "metadata": {
    "ExecuteTime": {
     "end_time": "2022-12-21T10:07:09.774150Z",
     "start_time": "2022-12-21T10:07:09.753177Z"
    }
   },
   "outputs": [],
   "source": [
    "#Get"
   ]
  },
  {
   "cell_type": "code",
   "execution_count": 18,
   "id": "449ef6f0",
   "metadata": {
    "ExecuteTime": {
     "end_time": "2022-12-21T10:07:19.839268Z",
     "start_time": "2022-12-21T10:07:19.826857Z"
    }
   },
   "outputs": [
    {
     "data": {
      "text/plain": [
       "'A'"
      ]
     },
     "execution_count": 18,
     "metadata": {},
     "output_type": "execute_result"
    }
   ],
   "source": [
    "d.get(2)"
   ]
  },
  {
   "cell_type": "code",
   "execution_count": 19,
   "id": "107da45b",
   "metadata": {
    "ExecuteTime": {
     "end_time": "2022-12-21T10:07:38.735142Z",
     "start_time": "2022-12-21T10:07:38.727507Z"
    }
   },
   "outputs": [],
   "source": [
    "#items"
   ]
  },
  {
   "cell_type": "code",
   "execution_count": 21,
   "id": "f7285fbb",
   "metadata": {
    "ExecuteTime": {
     "end_time": "2022-12-21T10:10:18.547341Z",
     "start_time": "2022-12-21T10:10:18.533478Z"
    }
   },
   "outputs": [
    {
     "data": {
      "text/plain": [
       "dict_items([(1, 10), (2, 'A'), (3, True)])"
      ]
     },
     "execution_count": 21,
     "metadata": {},
     "output_type": "execute_result"
    }
   ],
   "source": [
    "d.items()"
   ]
  },
  {
   "cell_type": "code",
   "execution_count": 22,
   "id": "7fb2983e",
   "metadata": {
    "ExecuteTime": {
     "end_time": "2022-12-21T10:10:42.709237Z",
     "start_time": "2022-12-21T10:10:42.698174Z"
    }
   },
   "outputs": [],
   "source": [
    "#keys"
   ]
  },
  {
   "cell_type": "code",
   "execution_count": 23,
   "id": "8e429c4b",
   "metadata": {
    "ExecuteTime": {
     "end_time": "2022-12-21T10:10:50.483263Z",
     "start_time": "2022-12-21T10:10:50.474709Z"
    }
   },
   "outputs": [
    {
     "data": {
      "text/plain": [
       "dict_keys([1, 2, 3])"
      ]
     },
     "execution_count": 23,
     "metadata": {},
     "output_type": "execute_result"
    }
   ],
   "source": [
    "d.keys()"
   ]
  },
  {
   "cell_type": "code",
   "execution_count": 24,
   "id": "620894c9",
   "metadata": {
    "ExecuteTime": {
     "end_time": "2022-12-21T10:11:23.476955Z",
     "start_time": "2022-12-21T10:11:23.470304Z"
    }
   },
   "outputs": [],
   "source": [
    "#Adding values in dictionary(update)"
   ]
  },
  {
   "cell_type": "code",
   "execution_count": 27,
   "id": "a3c38c67",
   "metadata": {
    "ExecuteTime": {
     "end_time": "2022-12-21T10:12:34.218365Z",
     "start_time": "2022-12-21T10:12:34.213132Z"
    }
   },
   "outputs": [],
   "source": [
    "d.update({'car':'bmw'})"
   ]
  },
  {
   "cell_type": "code",
   "execution_count": 28,
   "id": "718ec3aa",
   "metadata": {
    "ExecuteTime": {
     "end_time": "2022-12-21T10:12:45.029257Z",
     "start_time": "2022-12-21T10:12:45.020585Z"
    }
   },
   "outputs": [
    {
     "data": {
      "text/plain": [
       "{1: 10, 2: 'A', 3: True, 'car': 'bmw'}"
      ]
     },
     "execution_count": 28,
     "metadata": {},
     "output_type": "execute_result"
    }
   ],
   "source": [
    "d"
   ]
  },
  {
   "cell_type": "code",
   "execution_count": 29,
   "id": "a5517621",
   "metadata": {
    "ExecuteTime": {
     "end_time": "2022-12-21T10:12:58.515969Z",
     "start_time": "2022-12-21T10:12:58.503618Z"
    }
   },
   "outputs": [],
   "source": [
    "#pop in dictionary"
   ]
  },
  {
   "cell_type": "code",
   "execution_count": 31,
   "id": "0be41153",
   "metadata": {
    "ExecuteTime": {
     "end_time": "2022-12-21T10:13:32.141416Z",
     "start_time": "2022-12-21T10:13:32.127480Z"
    }
   },
   "outputs": [
    {
     "data": {
      "text/plain": [
       "True"
      ]
     },
     "execution_count": 31,
     "metadata": {},
     "output_type": "execute_result"
    }
   ],
   "source": [
    "d.pop(3)"
   ]
  },
  {
   "cell_type": "code",
   "execution_count": 32,
   "id": "78a1a8cf",
   "metadata": {
    "ExecuteTime": {
     "end_time": "2022-12-21T10:13:41.210485Z",
     "start_time": "2022-12-21T10:13:41.192846Z"
    }
   },
   "outputs": [
    {
     "data": {
      "text/plain": [
       "{1: 10, 2: 'A', 'car': 'bmw'}"
      ]
     },
     "execution_count": 32,
     "metadata": {},
     "output_type": "execute_result"
    }
   ],
   "source": [
    "d"
   ]
  },
  {
   "cell_type": "code",
   "execution_count": 33,
   "id": "4df0f594",
   "metadata": {
    "ExecuteTime": {
     "end_time": "2022-12-21T10:13:52.042376Z",
     "start_time": "2022-12-21T10:13:52.029510Z"
    }
   },
   "outputs": [],
   "source": [
    "#Values"
   ]
  },
  {
   "cell_type": "code",
   "execution_count": 34,
   "id": "bc7e0472",
   "metadata": {
    "ExecuteTime": {
     "end_time": "2022-12-21T10:14:00.520426Z",
     "start_time": "2022-12-21T10:14:00.504326Z"
    }
   },
   "outputs": [
    {
     "data": {
      "text/plain": [
       "dict_values([10, 'A', 'bmw'])"
      ]
     },
     "execution_count": 34,
     "metadata": {},
     "output_type": "execute_result"
    }
   ],
   "source": [
    "d.values()"
   ]
  },
  {
   "cell_type": "code",
   "execution_count": 36,
   "id": "107e126e",
   "metadata": {
    "ExecuteTime": {
     "end_time": "2022-12-21T10:18:09.203777Z",
     "start_time": "2022-12-21T10:18:09.187272Z"
    }
   },
   "outputs": [],
   "source": [
    "# Another method for creating an empty set"
   ]
  },
  {
   "cell_type": "code",
   "execution_count": 38,
   "id": "ce95075d",
   "metadata": {
    "ExecuteTime": {
     "end_time": "2022-12-21T10:20:14.106625Z",
     "start_time": "2022-12-21T10:20:14.098405Z"
    }
   },
   "outputs": [
    {
     "data": {
      "text/plain": [
       "{1, 10.5, 2, 3, 'A'}"
      ]
     },
     "execution_count": 38,
     "metadata": {},
     "output_type": "execute_result"
    }
   ],
   "source": [
    "#creating an empty set\n",
    "\n",
    "s={1,2,3,10.5,'A'}\n",
    "type(s)\n",
    "s"
   ]
  },
  {
   "cell_type": "code",
   "execution_count": 39,
   "id": "3b99dd44",
   "metadata": {
    "ExecuteTime": {
     "end_time": "2022-12-21T10:20:52.874808Z",
     "start_time": "2022-12-21T10:20:52.861675Z"
    }
   },
   "outputs": [
    {
     "data": {
      "text/plain": [
       "{1, 10.5, 100, 2, 3, 'A'}"
      ]
     },
     "execution_count": 39,
     "metadata": {},
     "output_type": "execute_result"
    }
   ],
   "source": [
    "#Add\n",
    "s.add(100)\n",
    "s"
   ]
  },
  {
   "cell_type": "code",
   "execution_count": 42,
   "id": "5152f59a",
   "metadata": {
    "ExecuteTime": {
     "end_time": "2022-12-21T10:31:03.444855Z",
     "start_time": "2022-12-21T10:31:03.435866Z"
    }
   },
   "outputs": [
    {
     "data": {
      "text/plain": [
       "{1, 2, 3, 4, 5}"
      ]
     },
     "execution_count": 42,
     "metadata": {},
     "output_type": "execute_result"
    }
   ],
   "source": [
    "#Does not allow duplicate items\n",
    "s1={1,1,2,3,4,5}\n",
    "s1"
   ]
  },
  {
   "cell_type": "code",
   "execution_count": 40,
   "id": "871c217d",
   "metadata": {
    "ExecuteTime": {
     "end_time": "2022-12-21T10:23:01.097044Z",
     "start_time": "2022-12-21T10:23:01.075077Z"
    }
   },
   "outputs": [],
   "source": [
    "a={'apple','mango','cherry'}\n",
    "b={'microsoft','google','cherry'}"
   ]
  },
  {
   "cell_type": "code",
   "execution_count": 48,
   "id": "221c29da",
   "metadata": {
    "ExecuteTime": {
     "end_time": "2022-12-21T10:35:55.039054Z",
     "start_time": "2022-12-21T10:35:55.029854Z"
    }
   },
   "outputs": [],
   "source": [
    "#Difference"
   ]
  },
  {
   "cell_type": "code",
   "execution_count": 49,
   "id": "604af428",
   "metadata": {
    "ExecuteTime": {
     "end_time": "2022-12-21T10:36:27.863246Z",
     "start_time": "2022-12-21T10:36:27.848802Z"
    }
   },
   "outputs": [
    {
     "data": {
      "text/plain": [
       "{'mango'}"
      ]
     },
     "execution_count": 49,
     "metadata": {},
     "output_type": "execute_result"
    }
   ],
   "source": [
    "a.difference(b)"
   ]
  },
  {
   "cell_type": "code",
   "execution_count": 43,
   "id": "1fec1a9b",
   "metadata": {
    "ExecuteTime": {
     "end_time": "2022-12-21T10:31:50.390692Z",
     "start_time": "2022-12-21T10:31:50.375837Z"
    }
   },
   "outputs": [
    {
     "data": {
      "text/plain": [
       "{'google', 'microsoft'}"
      ]
     },
     "execution_count": 43,
     "metadata": {},
     "output_type": "execute_result"
    }
   ],
   "source": [
    "b.difference(a)"
   ]
  },
  {
   "cell_type": "code",
   "execution_count": 44,
   "id": "3fdac661",
   "metadata": {
    "ExecuteTime": {
     "end_time": "2022-12-21T10:32:18.863757Z",
     "start_time": "2022-12-21T10:32:18.851866Z"
    }
   },
   "outputs": [],
   "source": [
    "#intersection"
   ]
  },
  {
   "cell_type": "code",
   "execution_count": 45,
   "id": "9764a7f7",
   "metadata": {
    "ExecuteTime": {
     "end_time": "2022-12-21T10:32:59.247174Z",
     "start_time": "2022-12-21T10:32:59.235250Z"
    }
   },
   "outputs": [
    {
     "data": {
      "text/plain": [
       "{'cherry'}"
      ]
     },
     "execution_count": 45,
     "metadata": {},
     "output_type": "execute_result"
    }
   ],
   "source": [
    "a.intersection(b)"
   ]
  },
  {
   "cell_type": "code",
   "execution_count": 46,
   "id": "b100c358",
   "metadata": {
    "ExecuteTime": {
     "end_time": "2022-12-21T10:33:10.776700Z",
     "start_time": "2022-12-21T10:33:10.762530Z"
    }
   },
   "outputs": [
    {
     "data": {
      "text/plain": [
       "{'apple', 'cherry', 'google', 'mango', 'microsoft'}"
      ]
     },
     "execution_count": 46,
     "metadata": {},
     "output_type": "execute_result"
    }
   ],
   "source": [
    "a.union(b)"
   ]
  },
  {
   "cell_type": "code",
   "execution_count": 47,
   "id": "4c61dc73",
   "metadata": {
    "ExecuteTime": {
     "end_time": "2022-12-21T10:35:17.415074Z",
     "start_time": "2022-12-21T10:35:17.399623Z"
    }
   },
   "outputs": [
    {
     "data": {
      "text/plain": [
       "'apple'"
      ]
     },
     "execution_count": 47,
     "metadata": {},
     "output_type": "execute_result"
    }
   ],
   "source": [
    "a.pop()"
   ]
  },
  {
   "cell_type": "code",
   "execution_count": null,
   "id": "4c967bac",
   "metadata": {},
   "outputs": [],
   "source": []
  }
 ],
 "metadata": {
  "kernelspec": {
   "display_name": "Python 3 (ipykernel)",
   "language": "python",
   "name": "python3"
  },
  "language_info": {
   "codemirror_mode": {
    "name": "ipython",
    "version": 3
   },
   "file_extension": ".py",
   "mimetype": "text/x-python",
   "name": "python",
   "nbconvert_exporter": "python",
   "pygments_lexer": "ipython3",
   "version": "3.9.13"
  }
 },
 "nbformat": 4,
 "nbformat_minor": 5
}
