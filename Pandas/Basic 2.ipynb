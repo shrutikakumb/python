{
 "cells": [
  {
   "cell_type": "markdown",
   "id": "f86682de",
   "metadata": {},
   "source": [
    "# Pandas"
   ]
  },
  {
   "cell_type": "code",
   "execution_count": 6,
   "id": "ef415a34",
   "metadata": {
    "ExecuteTime": {
     "end_time": "2022-12-23T10:28:25.614307Z",
     "start_time": "2022-12-23T10:28:24.563503Z"
    }
   },
   "outputs": [],
   "source": [
    "import pandas as pd\n",
    "\n",
    "import warnings\n",
    "\n",
    "warnings.filterwarnings('ignore')"
   ]
  },
  {
   "cell_type": "markdown",
   "id": "1307d342",
   "metadata": {},
   "source": [
    "# Series"
   ]
  },
  {
   "cell_type": "code",
   "execution_count": 7,
   "id": "0c6a1e36",
   "metadata": {
    "ExecuteTime": {
     "end_time": "2022-12-23T10:28:26.019007Z",
     "start_time": "2022-12-23T10:28:26.011441Z"
    }
   },
   "outputs": [],
   "source": [
    "# Series creation "
   ]
  },
  {
   "cell_type": "code",
   "execution_count": 8,
   "id": "7a4ad16c",
   "metadata": {
    "ExecuteTime": {
     "end_time": "2022-12-23T10:28:26.734848Z",
     "start_time": "2022-12-23T10:28:26.707767Z"
    }
   },
   "outputs": [
    {
     "data": {
      "text/plain": [
       "list"
      ]
     },
     "execution_count": 8,
     "metadata": {},
     "output_type": "execute_result"
    }
   ],
   "source": [
    "lst=[1,2,3,4,5]\n",
    "type(lst)"
   ]
  },
  {
   "cell_type": "code",
   "execution_count": 9,
   "id": "6d639ff2",
   "metadata": {
    "ExecuteTime": {
     "end_time": "2022-12-23T10:28:27.416281Z",
     "start_time": "2022-12-23T10:28:27.401742Z"
    }
   },
   "outputs": [
    {
     "data": {
      "text/plain": [
       "pandas.core.series.Series"
      ]
     },
     "execution_count": 9,
     "metadata": {},
     "output_type": "execute_result"
    }
   ],
   "source": [
    "s=pd.Series(lst)\n",
    "type(s)"
   ]
  },
  {
   "cell_type": "code",
   "execution_count": 10,
   "id": "04631527",
   "metadata": {
    "ExecuteTime": {
     "end_time": "2022-12-23T10:28:28.038726Z",
     "start_time": "2022-12-23T10:28:28.025902Z"
    }
   },
   "outputs": [
    {
     "data": {
      "text/plain": [
       "0    1\n",
       "1    2\n",
       "2    3\n",
       "3    4\n",
       "4    5\n",
       "dtype: int64"
      ]
     },
     "execution_count": 10,
     "metadata": {},
     "output_type": "execute_result"
    }
   ],
   "source": [
    "s"
   ]
  },
  {
   "cell_type": "code",
   "execution_count": 11,
   "id": "2850486f",
   "metadata": {
    "ExecuteTime": {
     "end_time": "2022-12-23T10:28:28.666847Z",
     "start_time": "2022-12-23T10:28:28.649971Z"
    }
   },
   "outputs": [
    {
     "data": {
      "text/plain": [
       "0       A\n",
       "1      10\n",
       "2    2500\n",
       "dtype: object"
      ]
     },
     "execution_count": 11,
     "metadata": {},
     "output_type": "execute_result"
    }
   ],
   "source": [
    "s=pd.Series(data=['A',10,2500])\n",
    "s"
   ]
  },
  {
   "cell_type": "code",
   "execution_count": 12,
   "id": "af1cdf22",
   "metadata": {
    "ExecuteTime": {
     "end_time": "2022-12-23T10:28:29.354028Z",
     "start_time": "2022-12-23T10:28:29.339850Z"
    }
   },
   "outputs": [
    {
     "data": {
      "text/plain": [
       "dict"
      ]
     },
     "execution_count": 12,
     "metadata": {},
     "output_type": "execute_result"
    }
   ],
   "source": [
    "d={1:'A',2:'B',3:'C'}\n",
    "type(d)"
   ]
  },
  {
   "cell_type": "code",
   "execution_count": 13,
   "id": "92c2c889",
   "metadata": {
    "ExecuteTime": {
     "end_time": "2022-12-23T10:28:30.052430Z",
     "start_time": "2022-12-23T10:28:30.027273Z"
    }
   },
   "outputs": [
    {
     "data": {
      "text/plain": [
       "1    A\n",
       "2    B\n",
       "3    C\n",
       "dtype: object"
      ]
     },
     "execution_count": 13,
     "metadata": {},
     "output_type": "execute_result"
    }
   ],
   "source": [
    "s=pd.Series(d)\n",
    "s"
   ]
  },
  {
   "cell_type": "code",
   "execution_count": 14,
   "id": "5fc7e2ef",
   "metadata": {
    "ExecuteTime": {
     "end_time": "2022-12-23T10:28:30.737072Z",
     "start_time": "2022-12-23T10:28:30.713897Z"
    }
   },
   "outputs": [
    {
     "data": {
      "text/plain": [
       "a    10\n",
       "b    20\n",
       "c    30\n",
       "Name: My_series, dtype: int64"
      ]
     },
     "execution_count": 14,
     "metadata": {},
     "output_type": "execute_result"
    }
   ],
   "source": [
    "s=pd.Series(data=[10,20,30],index=['a','b','c'],name='My_series')\n",
    "s"
   ]
  },
  {
   "cell_type": "code",
   "execution_count": 15,
   "id": "4a8251c7",
   "metadata": {
    "ExecuteTime": {
     "end_time": "2022-12-23T10:28:31.359753Z",
     "start_time": "2022-12-23T10:28:31.354311Z"
    }
   },
   "outputs": [],
   "source": [
    "#Accessing elements from a series using index labels."
   ]
  },
  {
   "cell_type": "code",
   "execution_count": 16,
   "id": "19de0c4f",
   "metadata": {
    "ExecuteTime": {
     "end_time": "2022-12-23T10:28:32.080008Z",
     "start_time": "2022-12-23T10:28:32.065894Z"
    }
   },
   "outputs": [
    {
     "data": {
      "text/plain": [
       "10"
      ]
     },
     "execution_count": 16,
     "metadata": {},
     "output_type": "execute_result"
    }
   ],
   "source": [
    "s[0]"
   ]
  },
  {
   "cell_type": "code",
   "execution_count": 17,
   "id": "03be8e07",
   "metadata": {
    "ExecuteTime": {
     "end_time": "2022-12-23T10:28:32.709634Z",
     "start_time": "2022-12-23T10:28:32.689740Z"
    }
   },
   "outputs": [
    {
     "data": {
      "text/plain": [
       "30"
      ]
     },
     "execution_count": 17,
     "metadata": {},
     "output_type": "execute_result"
    }
   ],
   "source": [
    "s['c']"
   ]
  },
  {
   "cell_type": "code",
   "execution_count": 18,
   "id": "da43c84d",
   "metadata": {
    "ExecuteTime": {
     "end_time": "2022-12-23T10:28:33.416779Z",
     "start_time": "2022-12-23T10:28:33.404128Z"
    }
   },
   "outputs": [
    {
     "data": {
      "text/plain": [
       "a    10\n",
       "b    20\n",
       "Name: My_series, dtype: int64"
      ]
     },
     "execution_count": 18,
     "metadata": {},
     "output_type": "execute_result"
    }
   ],
   "source": [
    "s[0:2]"
   ]
  },
  {
   "cell_type": "code",
   "execution_count": 19,
   "id": "6d510251",
   "metadata": {
    "ExecuteTime": {
     "end_time": "2022-12-23T10:28:34.129130Z",
     "start_time": "2022-12-23T10:28:34.113738Z"
    }
   },
   "outputs": [],
   "source": [
    "# Data frame"
   ]
  },
  {
   "cell_type": "code",
   "execution_count": 20,
   "id": "1c6a3117",
   "metadata": {
    "ExecuteTime": {
     "end_time": "2022-12-23T10:28:34.882223Z",
     "start_time": "2022-12-23T10:28:34.873706Z"
    }
   },
   "outputs": [],
   "source": [
    "lst=[['Python',90,'Pune'],['ML',100,'Mumbai'],['DL',95,'HYD']]\n",
    "\n",
    "col=['Subject','Marks','City']"
   ]
  },
  {
   "cell_type": "code",
   "execution_count": 21,
   "id": "6bc8cdb6",
   "metadata": {
    "ExecuteTime": {
     "end_time": "2022-12-23T10:28:35.684640Z",
     "start_time": "2022-12-23T10:28:35.656767Z"
    }
   },
   "outputs": [
    {
     "data": {
      "text/html": [
       "<div>\n",
       "<style scoped>\n",
       "    .dataframe tbody tr th:only-of-type {\n",
       "        vertical-align: middle;\n",
       "    }\n",
       "\n",
       "    .dataframe tbody tr th {\n",
       "        vertical-align: top;\n",
       "    }\n",
       "\n",
       "    .dataframe thead th {\n",
       "        text-align: right;\n",
       "    }\n",
       "</style>\n",
       "<table border=\"1\" class=\"dataframe\">\n",
       "  <thead>\n",
       "    <tr style=\"text-align: right;\">\n",
       "      <th></th>\n",
       "      <th>Subject</th>\n",
       "      <th>Marks</th>\n",
       "      <th>City</th>\n",
       "    </tr>\n",
       "  </thead>\n",
       "  <tbody>\n",
       "    <tr>\n",
       "      <th>0</th>\n",
       "      <td>Python</td>\n",
       "      <td>90</td>\n",
       "      <td>Pune</td>\n",
       "    </tr>\n",
       "    <tr>\n",
       "      <th>1</th>\n",
       "      <td>ML</td>\n",
       "      <td>100</td>\n",
       "      <td>Mumbai</td>\n",
       "    </tr>\n",
       "    <tr>\n",
       "      <th>2</th>\n",
       "      <td>DL</td>\n",
       "      <td>95</td>\n",
       "      <td>HYD</td>\n",
       "    </tr>\n",
       "  </tbody>\n",
       "</table>\n",
       "</div>"
      ],
      "text/plain": [
       "  Subject  Marks    City\n",
       "0  Python     90    Pune\n",
       "1      ML    100  Mumbai\n",
       "2      DL     95     HYD"
      ]
     },
     "execution_count": 21,
     "metadata": {},
     "output_type": "execute_result"
    }
   ],
   "source": [
    "df=pd.DataFrame(data=lst,columns=col)\n",
    "df"
   ]
  },
  {
   "cell_type": "code",
   "execution_count": 22,
   "id": "9381cce6",
   "metadata": {
    "ExecuteTime": {
     "end_time": "2022-12-23T10:28:36.312239Z",
     "start_time": "2022-12-23T10:28:36.305815Z"
    }
   },
   "outputs": [],
   "source": [
    "#Approach 2"
   ]
  },
  {
   "cell_type": "code",
   "execution_count": 23,
   "id": "b84b291e",
   "metadata": {
    "ExecuteTime": {
     "end_time": "2022-12-23T10:28:37.180039Z",
     "start_time": "2022-12-23T10:28:37.154099Z"
    }
   },
   "outputs": [
    {
     "data": {
      "text/html": [
       "<div>\n",
       "<style scoped>\n",
       "    .dataframe tbody tr th:only-of-type {\n",
       "        vertical-align: middle;\n",
       "    }\n",
       "\n",
       "    .dataframe tbody tr th {\n",
       "        vertical-align: top;\n",
       "    }\n",
       "\n",
       "    .dataframe thead th {\n",
       "        text-align: right;\n",
       "    }\n",
       "</style>\n",
       "<table border=\"1\" class=\"dataframe\">\n",
       "  <thead>\n",
       "    <tr style=\"text-align: right;\">\n",
       "      <th></th>\n",
       "      <th>Subject</th>\n",
       "      <th>Marks</th>\n",
       "      <th>City Name</th>\n",
       "    </tr>\n",
       "  </thead>\n",
       "  <tbody>\n",
       "    <tr>\n",
       "      <th>0</th>\n",
       "      <td>Python</td>\n",
       "      <td>90</td>\n",
       "      <td>Pune</td>\n",
       "    </tr>\n",
       "    <tr>\n",
       "      <th>1</th>\n",
       "      <td>ML</td>\n",
       "      <td>70</td>\n",
       "      <td>Mumbai</td>\n",
       "    </tr>\n",
       "    <tr>\n",
       "      <th>2</th>\n",
       "      <td>DL</td>\n",
       "      <td>100</td>\n",
       "      <td>Hyd</td>\n",
       "    </tr>\n",
       "  </tbody>\n",
       "</table>\n",
       "</div>"
      ],
      "text/plain": [
       "  Subject  Marks City Name\n",
       "0  Python     90      Pune\n",
       "1      ML     70    Mumbai\n",
       "2      DL    100       Hyd"
      ]
     },
     "execution_count": 23,
     "metadata": {},
     "output_type": "execute_result"
    }
   ],
   "source": [
    "df=pd.DataFrame({\n",
    "    'Subject':['Python','ML','DL'],\n",
    "    'Marks':[90,70,100],\n",
    "    'City Name':['Pune','Mumbai','Hyd']\n",
    "})\n",
    "df"
   ]
  },
  {
   "cell_type": "code",
   "execution_count": 24,
   "id": "13b13aac",
   "metadata": {
    "ExecuteTime": {
     "end_time": "2022-12-23T10:28:38.080738Z",
     "start_time": "2022-12-23T10:28:38.068664Z"
    }
   },
   "outputs": [],
   "source": [
    "#check number of rows and columns in dataframe"
   ]
  },
  {
   "cell_type": "code",
   "execution_count": 25,
   "id": "e59fa22c",
   "metadata": {
    "ExecuteTime": {
     "end_time": "2022-12-23T10:28:38.882832Z",
     "start_time": "2022-12-23T10:28:38.866168Z"
    }
   },
   "outputs": [
    {
     "data": {
      "text/plain": [
       "(3, 3)"
      ]
     },
     "execution_count": 25,
     "metadata": {},
     "output_type": "execute_result"
    }
   ],
   "source": [
    "df.shape"
   ]
  },
  {
   "cell_type": "code",
   "execution_count": 26,
   "id": "bb7097fa",
   "metadata": {
    "ExecuteTime": {
     "end_time": "2022-12-23T10:28:39.561377Z",
     "start_time": "2022-12-23T10:28:39.544735Z"
    }
   },
   "outputs": [],
   "source": [
    "#Dimension of the dataframe"
   ]
  },
  {
   "cell_type": "code",
   "execution_count": 27,
   "id": "e268e7d2",
   "metadata": {
    "ExecuteTime": {
     "end_time": "2022-12-23T10:28:40.319531Z",
     "start_time": "2022-12-23T10:28:40.305816Z"
    }
   },
   "outputs": [
    {
     "data": {
      "text/plain": [
       "2"
      ]
     },
     "execution_count": 27,
     "metadata": {},
     "output_type": "execute_result"
    }
   ],
   "source": [
    "df.ndim"
   ]
  },
  {
   "cell_type": "code",
   "execution_count": 28,
   "id": "2f972f5d",
   "metadata": {
    "ExecuteTime": {
     "end_time": "2022-12-23T10:28:40.984026Z",
     "start_time": "2022-12-23T10:28:40.969545Z"
    }
   },
   "outputs": [],
   "source": [
    "#Data type of each column"
   ]
  },
  {
   "cell_type": "code",
   "execution_count": 29,
   "id": "ca9493f9",
   "metadata": {
    "ExecuteTime": {
     "end_time": "2022-12-23T10:28:41.649568Z",
     "start_time": "2022-12-23T10:28:41.635790Z"
    }
   },
   "outputs": [
    {
     "data": {
      "text/plain": [
       "Subject      object\n",
       "Marks         int64\n",
       "City Name    object\n",
       "dtype: object"
      ]
     },
     "execution_count": 29,
     "metadata": {},
     "output_type": "execute_result"
    }
   ],
   "source": [
    "df.dtypes"
   ]
  },
  {
   "cell_type": "code",
   "execution_count": 30,
   "id": "2123cc8e",
   "metadata": {
    "ExecuteTime": {
     "end_time": "2022-12-23T10:28:42.319192Z",
     "start_time": "2022-12-23T10:28:42.298756Z"
    }
   },
   "outputs": [
    {
     "data": {
      "text/plain": [
       "0    Python\n",
       "1        ML\n",
       "2        DL\n",
       "Name: Subject, dtype: object"
      ]
     },
     "execution_count": 30,
     "metadata": {},
     "output_type": "execute_result"
    }
   ],
   "source": [
    "df.Subject"
   ]
  },
  {
   "cell_type": "code",
   "execution_count": 31,
   "id": "d0e100ac",
   "metadata": {
    "ExecuteTime": {
     "end_time": "2022-12-23T10:28:43.015278Z",
     "start_time": "2022-12-23T10:28:43.002800Z"
    }
   },
   "outputs": [],
   "source": [
    "#Approach 2"
   ]
  },
  {
   "cell_type": "code",
   "execution_count": 32,
   "id": "01782df4",
   "metadata": {
    "ExecuteTime": {
     "end_time": "2022-12-23T10:28:43.695765Z",
     "start_time": "2022-12-23T10:28:43.674884Z"
    }
   },
   "outputs": [
    {
     "data": {
      "text/html": [
       "<div>\n",
       "<style scoped>\n",
       "    .dataframe tbody tr th:only-of-type {\n",
       "        vertical-align: middle;\n",
       "    }\n",
       "\n",
       "    .dataframe tbody tr th {\n",
       "        vertical-align: top;\n",
       "    }\n",
       "\n",
       "    .dataframe thead th {\n",
       "        text-align: right;\n",
       "    }\n",
       "</style>\n",
       "<table border=\"1\" class=\"dataframe\">\n",
       "  <thead>\n",
       "    <tr style=\"text-align: right;\">\n",
       "      <th></th>\n",
       "      <th>Subject</th>\n",
       "    </tr>\n",
       "  </thead>\n",
       "  <tbody>\n",
       "    <tr>\n",
       "      <th>0</th>\n",
       "      <td>Python</td>\n",
       "    </tr>\n",
       "    <tr>\n",
       "      <th>1</th>\n",
       "      <td>ML</td>\n",
       "    </tr>\n",
       "    <tr>\n",
       "      <th>2</th>\n",
       "      <td>DL</td>\n",
       "    </tr>\n",
       "  </tbody>\n",
       "</table>\n",
       "</div>"
      ],
      "text/plain": [
       "  Subject\n",
       "0  Python\n",
       "1      ML\n",
       "2      DL"
      ]
     },
     "execution_count": 32,
     "metadata": {},
     "output_type": "execute_result"
    }
   ],
   "source": [
    "df[['Subject']]"
   ]
  },
  {
   "cell_type": "code",
   "execution_count": 33,
   "id": "ee606659",
   "metadata": {
    "ExecuteTime": {
     "end_time": "2022-12-23T10:28:44.413682Z",
     "start_time": "2022-12-23T10:28:44.395128Z"
    }
   },
   "outputs": [
    {
     "data": {
      "text/html": [
       "<div>\n",
       "<style scoped>\n",
       "    .dataframe tbody tr th:only-of-type {\n",
       "        vertical-align: middle;\n",
       "    }\n",
       "\n",
       "    .dataframe tbody tr th {\n",
       "        vertical-align: top;\n",
       "    }\n",
       "\n",
       "    .dataframe thead th {\n",
       "        text-align: right;\n",
       "    }\n",
       "</style>\n",
       "<table border=\"1\" class=\"dataframe\">\n",
       "  <thead>\n",
       "    <tr style=\"text-align: right;\">\n",
       "      <th></th>\n",
       "      <th>Subject</th>\n",
       "      <th>Marks</th>\n",
       "      <th>City Name</th>\n",
       "    </tr>\n",
       "  </thead>\n",
       "  <tbody>\n",
       "    <tr>\n",
       "      <th>0</th>\n",
       "      <td>Python</td>\n",
       "      <td>90</td>\n",
       "      <td>Pune</td>\n",
       "    </tr>\n",
       "    <tr>\n",
       "      <th>1</th>\n",
       "      <td>ML</td>\n",
       "      <td>70</td>\n",
       "      <td>Mumbai</td>\n",
       "    </tr>\n",
       "    <tr>\n",
       "      <th>2</th>\n",
       "      <td>DL</td>\n",
       "      <td>100</td>\n",
       "      <td>Hyd</td>\n",
       "    </tr>\n",
       "  </tbody>\n",
       "</table>\n",
       "</div>"
      ],
      "text/plain": [
       "  Subject  Marks City Name\n",
       "0  Python     90      Pune\n",
       "1      ML     70    Mumbai\n",
       "2      DL    100       Hyd"
      ]
     },
     "execution_count": 33,
     "metadata": {},
     "output_type": "execute_result"
    }
   ],
   "source": [
    "df"
   ]
  },
  {
   "cell_type": "code",
   "execution_count": 34,
   "id": "b49d5723",
   "metadata": {
    "ExecuteTime": {
     "end_time": "2022-12-23T10:28:45.176062Z",
     "start_time": "2022-12-23T10:28:45.162943Z"
    }
   },
   "outputs": [
    {
     "data": {
      "text/plain": [
       "0      Pune\n",
       "1    Mumbai\n",
       "2       Hyd\n",
       "Name: City Name, dtype: object"
      ]
     },
     "execution_count": 34,
     "metadata": {},
     "output_type": "execute_result"
    }
   ],
   "source": [
    "df['City Name']"
   ]
  },
  {
   "cell_type": "code",
   "execution_count": 35,
   "id": "91a42d6b",
   "metadata": {
    "ExecuteTime": {
     "end_time": "2022-12-23T10:28:45.862130Z",
     "start_time": "2022-12-23T10:28:45.851121Z"
    }
   },
   "outputs": [],
   "source": [
    "#Descriptive stats for df"
   ]
  },
  {
   "cell_type": "raw",
   "id": "b230eeac",
   "metadata": {},
   "source": [
    "df.describe()"
   ]
  },
  {
   "cell_type": "code",
   "execution_count": 36,
   "id": "e1a4c212",
   "metadata": {
    "ExecuteTime": {
     "end_time": "2022-12-23T10:28:47.473034Z",
     "start_time": "2022-12-23T10:28:47.441571Z"
    }
   },
   "outputs": [
    {
     "data": {
      "text/html": [
       "<div>\n",
       "<style scoped>\n",
       "    .dataframe tbody tr th:only-of-type {\n",
       "        vertical-align: middle;\n",
       "    }\n",
       "\n",
       "    .dataframe tbody tr th {\n",
       "        vertical-align: top;\n",
       "    }\n",
       "\n",
       "    .dataframe thead th {\n",
       "        text-align: right;\n",
       "    }\n",
       "</style>\n",
       "<table border=\"1\" class=\"dataframe\">\n",
       "  <thead>\n",
       "    <tr style=\"text-align: right;\">\n",
       "      <th></th>\n",
       "      <th>Subject</th>\n",
       "      <th>City Name</th>\n",
       "    </tr>\n",
       "  </thead>\n",
       "  <tbody>\n",
       "    <tr>\n",
       "      <th>count</th>\n",
       "      <td>3</td>\n",
       "      <td>3</td>\n",
       "    </tr>\n",
       "    <tr>\n",
       "      <th>unique</th>\n",
       "      <td>3</td>\n",
       "      <td>3</td>\n",
       "    </tr>\n",
       "    <tr>\n",
       "      <th>top</th>\n",
       "      <td>Python</td>\n",
       "      <td>Pune</td>\n",
       "    </tr>\n",
       "    <tr>\n",
       "      <th>freq</th>\n",
       "      <td>1</td>\n",
       "      <td>1</td>\n",
       "    </tr>\n",
       "  </tbody>\n",
       "</table>\n",
       "</div>"
      ],
      "text/plain": [
       "       Subject City Name\n",
       "count        3         3\n",
       "unique       3         3\n",
       "top     Python      Pune\n",
       "freq         1         1"
      ]
     },
     "execution_count": 36,
     "metadata": {},
     "output_type": "execute_result"
    }
   ],
   "source": [
    "df.describe(include='O')"
   ]
  },
  {
   "cell_type": "code",
   "execution_count": 37,
   "id": "92545d07",
   "metadata": {
    "ExecuteTime": {
     "end_time": "2022-12-23T10:28:48.310992Z",
     "start_time": "2022-12-23T10:28:48.282867Z"
    }
   },
   "outputs": [
    {
     "data": {
      "text/html": [
       "<div>\n",
       "<style scoped>\n",
       "    .dataframe tbody tr th:only-of-type {\n",
       "        vertical-align: middle;\n",
       "    }\n",
       "\n",
       "    .dataframe tbody tr th {\n",
       "        vertical-align: top;\n",
       "    }\n",
       "\n",
       "    .dataframe thead th {\n",
       "        text-align: right;\n",
       "    }\n",
       "</style>\n",
       "<table border=\"1\" class=\"dataframe\">\n",
       "  <thead>\n",
       "    <tr style=\"text-align: right;\">\n",
       "      <th></th>\n",
       "      <th>Subject</th>\n",
       "      <th>Marks</th>\n",
       "      <th>City Name</th>\n",
       "    </tr>\n",
       "  </thead>\n",
       "  <tbody>\n",
       "    <tr>\n",
       "      <th>count</th>\n",
       "      <td>3</td>\n",
       "      <td>3.000000</td>\n",
       "      <td>3</td>\n",
       "    </tr>\n",
       "    <tr>\n",
       "      <th>unique</th>\n",
       "      <td>3</td>\n",
       "      <td>NaN</td>\n",
       "      <td>3</td>\n",
       "    </tr>\n",
       "    <tr>\n",
       "      <th>top</th>\n",
       "      <td>Python</td>\n",
       "      <td>NaN</td>\n",
       "      <td>Pune</td>\n",
       "    </tr>\n",
       "    <tr>\n",
       "      <th>freq</th>\n",
       "      <td>1</td>\n",
       "      <td>NaN</td>\n",
       "      <td>1</td>\n",
       "    </tr>\n",
       "    <tr>\n",
       "      <th>mean</th>\n",
       "      <td>NaN</td>\n",
       "      <td>86.666667</td>\n",
       "      <td>NaN</td>\n",
       "    </tr>\n",
       "    <tr>\n",
       "      <th>std</th>\n",
       "      <td>NaN</td>\n",
       "      <td>15.275252</td>\n",
       "      <td>NaN</td>\n",
       "    </tr>\n",
       "    <tr>\n",
       "      <th>min</th>\n",
       "      <td>NaN</td>\n",
       "      <td>70.000000</td>\n",
       "      <td>NaN</td>\n",
       "    </tr>\n",
       "    <tr>\n",
       "      <th>25%</th>\n",
       "      <td>NaN</td>\n",
       "      <td>80.000000</td>\n",
       "      <td>NaN</td>\n",
       "    </tr>\n",
       "    <tr>\n",
       "      <th>50%</th>\n",
       "      <td>NaN</td>\n",
       "      <td>90.000000</td>\n",
       "      <td>NaN</td>\n",
       "    </tr>\n",
       "    <tr>\n",
       "      <th>75%</th>\n",
       "      <td>NaN</td>\n",
       "      <td>95.000000</td>\n",
       "      <td>NaN</td>\n",
       "    </tr>\n",
       "    <tr>\n",
       "      <th>max</th>\n",
       "      <td>NaN</td>\n",
       "      <td>100.000000</td>\n",
       "      <td>NaN</td>\n",
       "    </tr>\n",
       "  </tbody>\n",
       "</table>\n",
       "</div>"
      ],
      "text/plain": [
       "       Subject       Marks City Name\n",
       "count        3    3.000000         3\n",
       "unique       3         NaN         3\n",
       "top     Python         NaN      Pune\n",
       "freq         1         NaN         1\n",
       "mean       NaN   86.666667       NaN\n",
       "std        NaN   15.275252       NaN\n",
       "min        NaN   70.000000       NaN\n",
       "25%        NaN   80.000000       NaN\n",
       "50%        NaN   90.000000       NaN\n",
       "75%        NaN   95.000000       NaN\n",
       "max        NaN  100.000000       NaN"
      ]
     },
     "execution_count": 37,
     "metadata": {},
     "output_type": "execute_result"
    }
   ],
   "source": [
    "df.describe(include='all')"
   ]
  },
  {
   "cell_type": "code",
   "execution_count": 38,
   "id": "2bdd80d1",
   "metadata": {
    "ExecuteTime": {
     "end_time": "2022-12-23T10:28:49.048498Z",
     "start_time": "2022-12-23T10:28:49.025766Z"
    }
   },
   "outputs": [],
   "source": [
    "#Getting information about dataframe."
   ]
  },
  {
   "cell_type": "code",
   "execution_count": 39,
   "id": "1c66e7a1",
   "metadata": {
    "ExecuteTime": {
     "end_time": "2022-12-23T10:28:49.820423Z",
     "start_time": "2022-12-23T10:28:49.793739Z"
    }
   },
   "outputs": [
    {
     "name": "stdout",
     "output_type": "stream",
     "text": [
      "<class 'pandas.core.frame.DataFrame'>\n",
      "RangeIndex: 3 entries, 0 to 2\n",
      "Data columns (total 3 columns):\n",
      " #   Column     Non-Null Count  Dtype \n",
      "---  ------     --------------  ----- \n",
      " 0   Subject    3 non-null      object\n",
      " 1   Marks      3 non-null      int64 \n",
      " 2   City Name  3 non-null      object\n",
      "dtypes: int64(1), object(2)\n",
      "memory usage: 200.0+ bytes\n"
     ]
    }
   ],
   "source": [
    "df.info()"
   ]
  },
  {
   "cell_type": "code",
   "execution_count": 40,
   "id": "1d2ae9ee",
   "metadata": {
    "ExecuteTime": {
     "end_time": "2022-12-23T10:28:50.691522Z",
     "start_time": "2022-12-23T10:28:50.676679Z"
    }
   },
   "outputs": [],
   "source": [
    "#Checking null values"
   ]
  },
  {
   "cell_type": "code",
   "execution_count": 42,
   "id": "7fdd9727",
   "metadata": {
    "ExecuteTime": {
     "end_time": "2022-12-23T10:29:00.928670Z",
     "start_time": "2022-12-23T10:29:00.905300Z"
    }
   },
   "outputs": [
    {
     "data": {
      "text/plain": [
       "Subject      0\n",
       "Marks        0\n",
       "City Name    0\n",
       "dtype: int64"
      ]
     },
     "execution_count": 42,
     "metadata": {},
     "output_type": "execute_result"
    }
   ],
   "source": [
    "df.isnull().sum()"
   ]
  },
  {
   "cell_type": "code",
   "execution_count": null,
   "id": "487b2294",
   "metadata": {},
   "outputs": [],
   "source": []
  }
 ],
 "metadata": {
  "_draft": {
   "nbviewer_url": "https://gist.github.com/a91638c3d46a40f263bf9d4d53d82b88"
  },
  "gist": {
   "data": {
    "description": "Basic 2.ipynb",
    "public": true
   },
   "id": "a91638c3d46a40f263bf9d4d53d82b88"
  },
  "kernelspec": {
   "display_name": "Python 3 (ipykernel)",
   "language": "python",
   "name": "python3"
  },
  "language_info": {
   "codemirror_mode": {
    "name": "ipython",
    "version": 3
   },
   "file_extension": ".py",
   "mimetype": "text/x-python",
   "name": "python",
   "nbconvert_exporter": "python",
   "pygments_lexer": "ipython3",
   "version": "3.9.13"
  }
 },
 "nbformat": 4,
 "nbformat_minor": 5
}
